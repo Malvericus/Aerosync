{
 "cells": [
  {
   "cell_type": "code",
   "execution_count": 3,
   "metadata": {
    "ExecuteTime": {
     "end_time": "2024-04-17T06:09:36.566289Z",
     "start_time": "2024-04-17T06:09:36.439295Z"
    }
   },
   "outputs": [],
   "source": [
    "import pandas as pd\n",
    "import os"
   ]
  },
  {
   "cell_type": "code",
   "execution_count": 8,
   "metadata": {
    "ExecuteTime": {
     "end_time": "2024-04-17T06:10:47.590801Z",
     "start_time": "2024-04-17T06:10:37.068288Z"
    }
   },
   "outputs": [],
   "source": [
    "csv_path = \"Combined_Flights_2022.csv\"\n",
    "df = pd.read_csv(csv_path)"
   ]
  },
  {
   "cell_type": "code",
   "outputs": [
    {
     "data": {
      "text/plain": "   FlightDate                                    Airline Origin Dest  \\\n0  2022-04-04  Commutair Aka Champlain Enterprises, Inc.    GJT  DEN   \n1  2022-04-04  Commutair Aka Champlain Enterprises, Inc.    HRL  IAH   \n\n   Cancelled  Diverted  CRSDepTime  DepTime  DepDelayMinutes  DepDelay  ...  \\\n0      False     False        1133   1123.0              0.0     -10.0  ...   \n1      False     False         732    728.0              0.0      -4.0  ...   \n\n   WheelsOff  WheelsOn  TaxiIn  CRSArrTime  ArrDelay  ArrDel15  \\\n0     1140.0    1220.0     8.0        1245     -17.0       0.0   \n1      744.0     839.0     9.0         849      -1.0       0.0   \n\n   ArrivalDelayGroups  ArrTimeBlk  DistanceGroup  DivAirportLandings  \n0                -2.0   1200-1259              1                   0  \n1                -1.0   0800-0859              2                   0  \n\n[2 rows x 61 columns]",
      "text/html": "<div>\n<style scoped>\n    .dataframe tbody tr th:only-of-type {\n        vertical-align: middle;\n    }\n\n    .dataframe tbody tr th {\n        vertical-align: top;\n    }\n\n    .dataframe thead th {\n        text-align: right;\n    }\n</style>\n<table border=\"1\" class=\"dataframe\">\n  <thead>\n    <tr style=\"text-align: right;\">\n      <th></th>\n      <th>FlightDate</th>\n      <th>Airline</th>\n      <th>Origin</th>\n      <th>Dest</th>\n      <th>Cancelled</th>\n      <th>Diverted</th>\n      <th>CRSDepTime</th>\n      <th>DepTime</th>\n      <th>DepDelayMinutes</th>\n      <th>DepDelay</th>\n      <th>...</th>\n      <th>WheelsOff</th>\n      <th>WheelsOn</th>\n      <th>TaxiIn</th>\n      <th>CRSArrTime</th>\n      <th>ArrDelay</th>\n      <th>ArrDel15</th>\n      <th>ArrivalDelayGroups</th>\n      <th>ArrTimeBlk</th>\n      <th>DistanceGroup</th>\n      <th>DivAirportLandings</th>\n    </tr>\n  </thead>\n  <tbody>\n    <tr>\n      <th>0</th>\n      <td>2022-04-04</td>\n      <td>Commutair Aka Champlain Enterprises, Inc.</td>\n      <td>GJT</td>\n      <td>DEN</td>\n      <td>False</td>\n      <td>False</td>\n      <td>1133</td>\n      <td>1123.0</td>\n      <td>0.0</td>\n      <td>-10.0</td>\n      <td>...</td>\n      <td>1140.0</td>\n      <td>1220.0</td>\n      <td>8.0</td>\n      <td>1245</td>\n      <td>-17.0</td>\n      <td>0.0</td>\n      <td>-2.0</td>\n      <td>1200-1259</td>\n      <td>1</td>\n      <td>0</td>\n    </tr>\n    <tr>\n      <th>1</th>\n      <td>2022-04-04</td>\n      <td>Commutair Aka Champlain Enterprises, Inc.</td>\n      <td>HRL</td>\n      <td>IAH</td>\n      <td>False</td>\n      <td>False</td>\n      <td>732</td>\n      <td>728.0</td>\n      <td>0.0</td>\n      <td>-4.0</td>\n      <td>...</td>\n      <td>744.0</td>\n      <td>839.0</td>\n      <td>9.0</td>\n      <td>849</td>\n      <td>-1.0</td>\n      <td>0.0</td>\n      <td>-1.0</td>\n      <td>0800-0859</td>\n      <td>2</td>\n      <td>0</td>\n    </tr>\n  </tbody>\n</table>\n<p>2 rows × 61 columns</p>\n</div>"
     },
     "execution_count": 9,
     "metadata": {},
     "output_type": "execute_result"
    }
   ],
   "source": [
    "df.head(2)"
   ],
   "metadata": {
    "collapsed": false,
    "ExecuteTime": {
     "end_time": "2024-04-17T06:11:47.383925Z",
     "start_time": "2024-04-17T06:11:47.337230Z"
    }
   },
   "execution_count": 9
  },
  {
   "cell_type": "code",
   "outputs": [],
   "source": [],
   "metadata": {
    "collapsed": false
   }
  },
  {
   "cell_type": "code",
   "outputs": [],
   "source": [
    "origin_df = df['Origin'].unique()"
   ],
   "metadata": {
    "collapsed": false,
    "ExecuteTime": {
     "end_time": "2024-04-17T06:12:50.011416Z",
     "start_time": "2024-04-17T06:12:49.971733Z"
    }
   },
   "execution_count": 13
  },
  {
   "cell_type": "code",
   "outputs": [],
   "source": [
    "origin_df = pd.DataFrame(origin_df)\n"
   ],
   "metadata": {
    "collapsed": false,
    "ExecuteTime": {
     "end_time": "2024-04-17T06:15:09.738427Z",
     "start_time": "2024-04-17T06:15:09.701566Z"
    }
   },
   "execution_count": 17
  },
  {
   "cell_type": "code",
   "outputs": [
    {
     "name": "stdout",
     "output_type": "stream",
     "text": [
      "<class 'pandas.core.frame.DataFrame'>\n",
      "RangeIndex: 375 entries, 0 to 374\n",
      "Data columns (total 1 columns):\n",
      " #   Column  Non-Null Count  Dtype \n",
      "---  ------  --------------  ----- \n",
      " 0   0       375 non-null    object\n",
      "dtypes: object(1)\n",
      "memory usage: 3.1+ KB\n"
     ]
    }
   ],
   "source": [
    "origin_df.info()"
   ],
   "metadata": {
    "collapsed": false,
    "ExecuteTime": {
     "end_time": "2024-04-17T06:15:25.808013Z",
     "start_time": "2024-04-17T06:15:25.745294Z"
    }
   },
   "execution_count": 19
  },
  {
   "cell_type": "code",
   "outputs": [],
   "source": [
    "origin_df.to_csv(\"origin_df.csv\", index = False\n",
    "                 )"
   ],
   "metadata": {
    "collapsed": false,
    "ExecuteTime": {
     "end_time": "2024-04-17T06:16:34.158523Z",
     "start_time": "2024-04-17T06:16:34.122729Z"
    }
   },
   "execution_count": 20
  },
  {
   "cell_type": "code",
   "outputs": [],
   "source": [],
   "metadata": {
    "collapsed": false
   }
  },
  {
   "cell_type": "code",
   "outputs": [],
   "source": [
    "dest_df = df['Dest'].unique()"
   ],
   "metadata": {
    "collapsed": false,
    "ExecuteTime": {
     "end_time": "2024-04-17T06:17:05.535723Z",
     "start_time": "2024-04-17T06:17:05.500070Z"
    }
   },
   "execution_count": 22
  },
  {
   "cell_type": "code",
   "outputs": [],
   "source": [
    "dest_df = pd.DataFrame(dest_df)"
   ],
   "metadata": {
    "collapsed": false,
    "ExecuteTime": {
     "end_time": "2024-04-17T06:17:16.831679Z",
     "start_time": "2024-04-17T06:17:16.778458Z"
    }
   },
   "execution_count": 23
  },
  {
   "cell_type": "code",
   "outputs": [],
   "source": [
    "dest_df.to_csv(\"dest_df.csv\", index = False)"
   ],
   "metadata": {
    "collapsed": false,
    "ExecuteTime": {
     "end_time": "2024-04-17T06:17:35.311619Z",
     "start_time": "2024-04-17T06:17:35.240706Z"
    }
   },
   "execution_count": 24
  },
  {
   "cell_type": "code",
   "outputs": [],
   "source": [
    "df['OriginCityName'] = df['OriginCityName'].str.split(',').str[0]"
   ],
   "metadata": {
    "collapsed": false,
    "ExecuteTime": {
     "end_time": "2024-04-17T06:19:11.455978Z",
     "start_time": "2024-04-17T06:19:08.864342Z"
    }
   },
   "execution_count": 25
  },
  {
   "cell_type": "code",
   "outputs": [],
   "source": [
    "origin_city_name_df = df['OriginCityName'].unique()"
   ],
   "metadata": {
    "collapsed": false,
    "ExecuteTime": {
     "end_time": "2024-04-17T06:19:23.191880Z",
     "start_time": "2024-04-17T06:19:23.065821Z"
    }
   },
   "execution_count": 26
  },
  {
   "cell_type": "code",
   "outputs": [],
   "source": [
    "origin_city_name_df = pd.DataFrame(origin_city_name_df)"
   ],
   "metadata": {
    "collapsed": false,
    "ExecuteTime": {
     "end_time": "2024-04-17T06:19:29.608768Z",
     "start_time": "2024-04-17T06:19:29.569904Z"
    }
   },
   "execution_count": 27
  },
  {
   "cell_type": "code",
   "outputs": [
    {
     "data": {
      "text/plain": "                        0\n0          Grand Junction\n1    Harlingen/San Benito\n2                 Durango\n3                 Houston\n4                  Denver\n..                    ...\n354               Branson\n355              Gustavus\n356     Martha's Vineyard\n357               Hyannis\n358                Pierre\n\n[359 rows x 1 columns]",
      "text/html": "<div>\n<style scoped>\n    .dataframe tbody tr th:only-of-type {\n        vertical-align: middle;\n    }\n\n    .dataframe tbody tr th {\n        vertical-align: top;\n    }\n\n    .dataframe thead th {\n        text-align: right;\n    }\n</style>\n<table border=\"1\" class=\"dataframe\">\n  <thead>\n    <tr style=\"text-align: right;\">\n      <th></th>\n      <th>0</th>\n    </tr>\n  </thead>\n  <tbody>\n    <tr>\n      <th>0</th>\n      <td>Grand Junction</td>\n    </tr>\n    <tr>\n      <th>1</th>\n      <td>Harlingen/San Benito</td>\n    </tr>\n    <tr>\n      <th>2</th>\n      <td>Durango</td>\n    </tr>\n    <tr>\n      <th>3</th>\n      <td>Houston</td>\n    </tr>\n    <tr>\n      <th>4</th>\n      <td>Denver</td>\n    </tr>\n    <tr>\n      <th>...</th>\n      <td>...</td>\n    </tr>\n    <tr>\n      <th>354</th>\n      <td>Branson</td>\n    </tr>\n    <tr>\n      <th>355</th>\n      <td>Gustavus</td>\n    </tr>\n    <tr>\n      <th>356</th>\n      <td>Martha's Vineyard</td>\n    </tr>\n    <tr>\n      <th>357</th>\n      <td>Hyannis</td>\n    </tr>\n    <tr>\n      <th>358</th>\n      <td>Pierre</td>\n    </tr>\n  </tbody>\n</table>\n<p>359 rows × 1 columns</p>\n</div>"
     },
     "execution_count": 30,
     "metadata": {},
     "output_type": "execute_result"
    }
   ],
   "source": [
    "origin_city_name_df"
   ],
   "metadata": {
    "collapsed": false,
    "ExecuteTime": {
     "end_time": "2024-04-17T06:20:29.214198Z",
     "start_time": "2024-04-17T06:20:29.169330Z"
    }
   },
   "execution_count": 30
  },
  {
   "cell_type": "code",
   "outputs": [],
   "source": [
    "origin_city_name_df.to_csv(\"origin_city_name_df.csv\", index=False)"
   ],
   "metadata": {
    "collapsed": false,
    "ExecuteTime": {
     "end_time": "2024-04-17T06:19:52.438267Z",
     "start_time": "2024-04-17T06:19:52.401667Z"
    }
   },
   "execution_count": 28
  },
  {
   "cell_type": "code",
   "outputs": [],
   "source": [
    "df['DestCityName'] = df['DestCityName'].str.split(',').str[0]"
   ],
   "metadata": {
    "collapsed": false,
    "ExecuteTime": {
     "end_time": "2024-04-17T06:20:25.551603Z",
     "start_time": "2024-04-17T06:20:22.925941Z"
    }
   },
   "execution_count": 29
  },
  {
   "cell_type": "code",
   "outputs": [],
   "source": [
    "dest_city_name_df = df['DestCityName'].unique()"
   ],
   "metadata": {
    "collapsed": false,
    "ExecuteTime": {
     "end_time": "2024-04-17T06:20:39.464560Z",
     "start_time": "2024-04-17T06:20:39.369366Z"
    }
   },
   "execution_count": 31
  },
  {
   "cell_type": "code",
   "outputs": [],
   "source": [
    "dest_city_name_df = pd.DataFrame(dest_city_name_df)"
   ],
   "metadata": {
    "collapsed": false,
    "ExecuteTime": {
     "end_time": "2024-04-17T06:20:49.660768Z",
     "start_time": "2024-04-17T06:20:49.617044Z"
    }
   },
   "execution_count": 32
  },
  {
   "cell_type": "code",
   "outputs": [],
   "source": [
    "dest_city_name_df.to_csv(\"dest_city_name_df.csv\", index=False)"
   ],
   "metadata": {
    "collapsed": false,
    "ExecuteTime": {
     "end_time": "2024-04-17T06:21:12.198130Z",
     "start_time": "2024-04-17T06:21:12.160424Z"
    }
   },
   "execution_count": 33
  },
  {
   "cell_type": "code",
   "outputs": [],
   "source": [
    "# airline\n",
    "airline_df = df['Airline'].unique()"
   ],
   "metadata": {
    "collapsed": false,
    "ExecuteTime": {
     "end_time": "2024-04-17T06:24:54.380217Z",
     "start_time": "2024-04-17T06:24:54.308958Z"
    }
   },
   "execution_count": 36
  },
  {
   "cell_type": "code",
   "outputs": [],
   "source": [
    "airline_df = pd.DataFrame(airline_df)"
   ],
   "metadata": {
    "collapsed": false,
    "ExecuteTime": {
     "end_time": "2024-04-17T06:24:58.536090Z",
     "start_time": "2024-04-17T06:24:58.497478Z"
    }
   },
   "execution_count": 37
  },
  {
   "cell_type": "code",
   "outputs": [],
   "source": [
    "airline_df.to_csv(\"airline_df.csv\", index=False\n",
    "                )"
   ],
   "metadata": {
    "collapsed": false,
    "ExecuteTime": {
     "end_time": "2024-04-17T06:25:24.251416Z",
     "start_time": "2024-04-17T06:25:24.207111Z"
    }
   },
   "execution_count": 39
  },
  {
   "cell_type": "code",
   "outputs": [],
   "source": [],
   "metadata": {
    "collapsed": false
   }
  },
  {
   "cell_type": "code",
   "outputs": [],
   "source": [],
   "metadata": {
    "collapsed": false
   }
  },
  {
   "cell_type": "code",
   "outputs": [],
   "source": [],
   "metadata": {
    "collapsed": false
   }
  },
  {
   "cell_type": "code",
   "outputs": [],
   "source": [],
   "metadata": {
    "collapsed": false
   }
  },
  {
   "cell_type": "code",
   "execution_count": 5,
   "metadata": {},
   "outputs": [
    {
     "data": {
      "text/html": [
       "<div>\n",
       "<style scoped>\n",
       "    .dataframe tbody tr th:only-of-type {\n",
       "        vertical-align: middle;\n",
       "    }\n",
       "\n",
       "    .dataframe tbody tr th {\n",
       "        vertical-align: top;\n",
       "    }\n",
       "\n",
       "    .dataframe thead th {\n",
       "        text-align: right;\n",
       "    }\n",
       "</style>\n",
       "<table border=\"1\" class=\"dataframe\">\n",
       "  <thead>\n",
       "    <tr style=\"text-align: right;\">\n",
       "      <th></th>\n",
       "      <th>FlightDate</th>\n",
       "      <th>Airline</th>\n",
       "      <th>Origin</th>\n",
       "      <th>Dest</th>\n",
       "      <th>Cancelled</th>\n",
       "      <th>Diverted</th>\n",
       "      <th>CRSDepTime</th>\n",
       "      <th>DepTime</th>\n",
       "      <th>DepDelayMinutes</th>\n",
       "      <th>DepDelay</th>\n",
       "      <th>...</th>\n",
       "      <th>WheelsOff</th>\n",
       "      <th>WheelsOn</th>\n",
       "      <th>TaxiIn</th>\n",
       "      <th>CRSArrTime</th>\n",
       "      <th>ArrDelay</th>\n",
       "      <th>ArrDel15</th>\n",
       "      <th>ArrivalDelayGroups</th>\n",
       "      <th>ArrTimeBlk</th>\n",
       "      <th>DistanceGroup</th>\n",
       "      <th>DivAirportLandings</th>\n",
       "    </tr>\n",
       "  </thead>\n",
       "  <tbody>\n",
       "    <tr>\n",
       "      <th>0</th>\n",
       "      <td>2022-04-04</td>\n",
       "      <td>Commutair Aka Champlain Enterprises, Inc.</td>\n",
       "      <td>GJT</td>\n",
       "      <td>DEN</td>\n",
       "      <td>False</td>\n",
       "      <td>False</td>\n",
       "      <td>1133</td>\n",
       "      <td>1123.0</td>\n",
       "      <td>0.0</td>\n",
       "      <td>-10.0</td>\n",
       "      <td>...</td>\n",
       "      <td>1140.0</td>\n",
       "      <td>1220.0</td>\n",
       "      <td>8.0</td>\n",
       "      <td>1245</td>\n",
       "      <td>-17.0</td>\n",
       "      <td>0.0</td>\n",
       "      <td>-2.0</td>\n",
       "      <td>1200-1259</td>\n",
       "      <td>1</td>\n",
       "      <td>0</td>\n",
       "    </tr>\n",
       "    <tr>\n",
       "      <th>1</th>\n",
       "      <td>2022-04-04</td>\n",
       "      <td>Commutair Aka Champlain Enterprises, Inc.</td>\n",
       "      <td>HRL</td>\n",
       "      <td>IAH</td>\n",
       "      <td>False</td>\n",
       "      <td>False</td>\n",
       "      <td>732</td>\n",
       "      <td>728.0</td>\n",
       "      <td>0.0</td>\n",
       "      <td>-4.0</td>\n",
       "      <td>...</td>\n",
       "      <td>744.0</td>\n",
       "      <td>839.0</td>\n",
       "      <td>9.0</td>\n",
       "      <td>849</td>\n",
       "      <td>-1.0</td>\n",
       "      <td>0.0</td>\n",
       "      <td>-1.0</td>\n",
       "      <td>0800-0859</td>\n",
       "      <td>2</td>\n",
       "      <td>0</td>\n",
       "    </tr>\n",
       "  </tbody>\n",
       "</table>\n",
       "<p>2 rows × 61 columns</p>\n",
       "</div>"
      ],
      "text/plain": [
       "   FlightDate                                    Airline Origin Dest  \\\n",
       "0  2022-04-04  Commutair Aka Champlain Enterprises, Inc.    GJT  DEN   \n",
       "1  2022-04-04  Commutair Aka Champlain Enterprises, Inc.    HRL  IAH   \n",
       "\n",
       "   Cancelled  Diverted  CRSDepTime  DepTime  DepDelayMinutes  DepDelay  ...  \\\n",
       "0      False     False        1133   1123.0              0.0     -10.0  ...   \n",
       "1      False     False         732    728.0              0.0      -4.0  ...   \n",
       "\n",
       "   WheelsOff  WheelsOn  TaxiIn  CRSArrTime  ArrDelay  ArrDel15  \\\n",
       "0     1140.0    1220.0     8.0        1245     -17.0       0.0   \n",
       "1      744.0     839.0     9.0         849      -1.0       0.0   \n",
       "\n",
       "   ArrivalDelayGroups  ArrTimeBlk  DistanceGroup  DivAirportLandings  \n",
       "0                -2.0   1200-1259              1                   0  \n",
       "1                -1.0   0800-0859              2                   0  \n",
       "\n",
       "[2 rows x 61 columns]"
      ]
     },
     "execution_count": 5,
     "metadata": {},
     "output_type": "execute_result"
    }
   ],
   "source": [
    "df.head(2)"
   ]
  },
  {
   "cell_type": "code",
   "execution_count": 6,
   "metadata": {},
   "outputs": [
    {
     "name": "stdout",
     "output_type": "stream",
     "text": [
      "<class 'pandas.core.frame.DataFrame'>\n",
      "RangeIndex: 4078318 entries, 0 to 4078317\n",
      "Data columns (total 61 columns):\n",
      " #   Column                                   Dtype  \n",
      "---  ------                                   -----  \n",
      " 0   FlightDate                               object \n",
      " 1   Airline                                  object \n",
      " 2   Origin                                   object \n",
      " 3   Dest                                     object \n",
      " 4   Cancelled                                bool   \n",
      " 5   Diverted                                 bool   \n",
      " 6   CRSDepTime                               int64  \n",
      " 7   DepTime                                  float64\n",
      " 8   DepDelayMinutes                          float64\n",
      " 9   DepDelay                                 float64\n",
      " 10  ArrTime                                  float64\n",
      " 11  ArrDelayMinutes                          float64\n",
      " 12  AirTime                                  float64\n",
      " 13  CRSElapsedTime                           float64\n",
      " 14  ActualElapsedTime                        float64\n",
      " 15  Distance                                 float64\n",
      " 16  Year                                     int64  \n",
      " 17  Quarter                                  int64  \n",
      " 18  Month                                    int64  \n",
      " 19  DayofMonth                               int64  \n",
      " 20  DayOfWeek                                int64  \n",
      " 21  Marketing_Airline_Network                object \n",
      " 22  Operated_or_Branded_Code_Share_Partners  object \n",
      " 23  DOT_ID_Marketing_Airline                 int64  \n",
      " 24  IATA_Code_Marketing_Airline              object \n",
      " 25  Flight_Number_Marketing_Airline          int64  \n",
      " 26  Operating_Airline                        object \n",
      " 27  DOT_ID_Operating_Airline                 int64  \n",
      " 28  IATA_Code_Operating_Airline              object \n",
      " 29  Tail_Number                              object \n",
      " 30  Flight_Number_Operating_Airline          int64  \n",
      " 31  OriginAirportID                          int64  \n",
      " 32  OriginAirportSeqID                       int64  \n",
      " 33  OriginCityMarketID                       int64  \n",
      " 34  OriginCityName                           object \n",
      " 35  OriginState                              object \n",
      " 36  OriginStateFips                          int64  \n",
      " 37  OriginStateName                          object \n",
      " 38  OriginWac                                int64  \n",
      " 39  DestAirportID                            int64  \n",
      " 40  DestAirportSeqID                         int64  \n",
      " 41  DestCityMarketID                         int64  \n",
      " 42  DestCityName                             object \n",
      " 43  DestState                                object \n",
      " 44  DestStateFips                            int64  \n",
      " 45  DestStateName                            object \n",
      " 46  DestWac                                  int64  \n",
      " 47  DepDel15                                 float64\n",
      " 48  DepartureDelayGroups                     float64\n",
      " 49  DepTimeBlk                               object \n",
      " 50  TaxiOut                                  float64\n",
      " 51  WheelsOff                                float64\n",
      " 52  WheelsOn                                 float64\n",
      " 53  TaxiIn                                   float64\n",
      " 54  CRSArrTime                               int64  \n",
      " 55  ArrDelay                                 float64\n",
      " 56  ArrDel15                                 float64\n",
      " 57  ArrivalDelayGroups                       float64\n",
      " 58  ArrTimeBlk                               object \n",
      " 59  DistanceGroup                            int64  \n",
      " 60  DivAirportLandings                       int64  \n",
      "dtypes: bool(2), float64(18), int64(23), object(18)\n",
      "memory usage: 1.8+ GB\n"
     ]
    }
   ],
   "source": [
    "df.info()"
   ]
  },
  {
   "cell_type": "code",
   "execution_count": 7,
   "metadata": {},
   "outputs": [],
   "source": [
    "df['FlightDate'] = pd.to_datetime(df['FlightDate'])"
   ]
  },
  {
   "cell_type": "code",
   "execution_count": 8,
   "metadata": {},
   "outputs": [
    {
     "data": {
      "text/plain": [
       "FlightDate                 0\n",
       "Airline                    0\n",
       "Origin                     0\n",
       "Dest                       0\n",
       "Cancelled                  0\n",
       "                       ...  \n",
       "ArrDel15              133402\n",
       "ArrivalDelayGroups    133402\n",
       "ArrTimeBlk                 0\n",
       "DistanceGroup              0\n",
       "DivAirportLandings         0\n",
       "Length: 61, dtype: int64"
      ]
     },
     "execution_count": 8,
     "metadata": {},
     "output_type": "execute_result"
    }
   ],
   "source": [
    "df.isnull().sum().head(61)"
   ]
  },
  {
   "cell_type": "code",
   "execution_count": null,
   "metadata": {},
   "outputs": [],
   "source": []
  },
  {
   "cell_type": "code",
   "execution_count": 9,
   "metadata": {},
   "outputs": [],
   "source": [
    "df.dropna(inplace=True)"
   ]
  },
  {
   "cell_type": "code",
   "execution_count": 10,
   "metadata": {},
   "outputs": [
    {
     "data": {
      "text/html": [
       "<div>\n",
       "<style scoped>\n",
       "    .dataframe tbody tr th:only-of-type {\n",
       "        vertical-align: middle;\n",
       "    }\n",
       "\n",
       "    .dataframe tbody tr th {\n",
       "        vertical-align: top;\n",
       "    }\n",
       "\n",
       "    .dataframe thead th {\n",
       "        text-align: right;\n",
       "    }\n",
       "</style>\n",
       "<table border=\"1\" class=\"dataframe\">\n",
       "  <thead>\n",
       "    <tr style=\"text-align: right;\">\n",
       "      <th></th>\n",
       "      <th>FlightDate</th>\n",
       "      <th>Airline</th>\n",
       "      <th>Origin</th>\n",
       "      <th>Dest</th>\n",
       "      <th>Cancelled</th>\n",
       "      <th>Diverted</th>\n",
       "      <th>CRSDepTime</th>\n",
       "      <th>DepTime</th>\n",
       "      <th>DepDelayMinutes</th>\n",
       "      <th>DepDelay</th>\n",
       "      <th>...</th>\n",
       "      <th>WheelsOff</th>\n",
       "      <th>WheelsOn</th>\n",
       "      <th>TaxiIn</th>\n",
       "      <th>CRSArrTime</th>\n",
       "      <th>ArrDelay</th>\n",
       "      <th>ArrDel15</th>\n",
       "      <th>ArrivalDelayGroups</th>\n",
       "      <th>ArrTimeBlk</th>\n",
       "      <th>DistanceGroup</th>\n",
       "      <th>DivAirportLandings</th>\n",
       "    </tr>\n",
       "  </thead>\n",
       "  <tbody>\n",
       "    <tr>\n",
       "      <th>0</th>\n",
       "      <td>2022-04-04</td>\n",
       "      <td>Commutair Aka Champlain Enterprises, Inc.</td>\n",
       "      <td>GJT</td>\n",
       "      <td>DEN</td>\n",
       "      <td>False</td>\n",
       "      <td>False</td>\n",
       "      <td>1133</td>\n",
       "      <td>1123.0</td>\n",
       "      <td>0.0</td>\n",
       "      <td>-10.0</td>\n",
       "      <td>...</td>\n",
       "      <td>1140.0</td>\n",
       "      <td>1220.0</td>\n",
       "      <td>8.0</td>\n",
       "      <td>1245</td>\n",
       "      <td>-17.0</td>\n",
       "      <td>0.0</td>\n",
       "      <td>-2.0</td>\n",
       "      <td>1200-1259</td>\n",
       "      <td>1</td>\n",
       "      <td>0</td>\n",
       "    </tr>\n",
       "    <tr>\n",
       "      <th>1</th>\n",
       "      <td>2022-04-04</td>\n",
       "      <td>Commutair Aka Champlain Enterprises, Inc.</td>\n",
       "      <td>HRL</td>\n",
       "      <td>IAH</td>\n",
       "      <td>False</td>\n",
       "      <td>False</td>\n",
       "      <td>732</td>\n",
       "      <td>728.0</td>\n",
       "      <td>0.0</td>\n",
       "      <td>-4.0</td>\n",
       "      <td>...</td>\n",
       "      <td>744.0</td>\n",
       "      <td>839.0</td>\n",
       "      <td>9.0</td>\n",
       "      <td>849</td>\n",
       "      <td>-1.0</td>\n",
       "      <td>0.0</td>\n",
       "      <td>-1.0</td>\n",
       "      <td>0800-0859</td>\n",
       "      <td>2</td>\n",
       "      <td>0</td>\n",
       "    </tr>\n",
       "  </tbody>\n",
       "</table>\n",
       "<p>2 rows × 61 columns</p>\n",
       "</div>"
      ],
      "text/plain": [
       "  FlightDate                                    Airline Origin Dest  \\\n",
       "0 2022-04-04  Commutair Aka Champlain Enterprises, Inc.    GJT  DEN   \n",
       "1 2022-04-04  Commutair Aka Champlain Enterprises, Inc.    HRL  IAH   \n",
       "\n",
       "   Cancelled  Diverted  CRSDepTime  DepTime  DepDelayMinutes  DepDelay  ...  \\\n",
       "0      False     False        1133   1123.0              0.0     -10.0  ...   \n",
       "1      False     False         732    728.0              0.0      -4.0  ...   \n",
       "\n",
       "   WheelsOff  WheelsOn  TaxiIn  CRSArrTime  ArrDelay  ArrDel15  \\\n",
       "0     1140.0    1220.0     8.0        1245     -17.0       0.0   \n",
       "1      744.0     839.0     9.0         849      -1.0       0.0   \n",
       "\n",
       "   ArrivalDelayGroups  ArrTimeBlk  DistanceGroup  DivAirportLandings  \n",
       "0                -2.0   1200-1259              1                   0  \n",
       "1                -1.0   0800-0859              2                   0  \n",
       "\n",
       "[2 rows x 61 columns]"
      ]
     },
     "execution_count": 10,
     "metadata": {},
     "output_type": "execute_result"
    }
   ],
   "source": [
    "df.head(2)"
   ]
  },
  {
   "cell_type": "code",
   "execution_count": 11,
   "metadata": {},
   "outputs": [
    {
     "name": "stdout",
     "output_type": "stream",
     "text": [
      "<class 'pandas.core.frame.DataFrame'>\n",
      "Index: 3944916 entries, 0 to 4078315\n",
      "Data columns (total 61 columns):\n",
      " #   Column                                   Dtype         \n",
      "---  ------                                   -----         \n",
      " 0   FlightDate                               datetime64[ns]\n",
      " 1   Airline                                  object        \n",
      " 2   Origin                                   object        \n",
      " 3   Dest                                     object        \n",
      " 4   Cancelled                                bool          \n",
      " 5   Diverted                                 bool          \n",
      " 6   CRSDepTime                               int64         \n",
      " 7   DepTime                                  float64       \n",
      " 8   DepDelayMinutes                          float64       \n",
      " 9   DepDelay                                 float64       \n",
      " 10  ArrTime                                  float64       \n",
      " 11  ArrDelayMinutes                          float64       \n",
      " 12  AirTime                                  float64       \n",
      " 13  CRSElapsedTime                           float64       \n",
      " 14  ActualElapsedTime                        float64       \n",
      " 15  Distance                                 float64       \n",
      " 16  Year                                     int64         \n",
      " 17  Quarter                                  int64         \n",
      " 18  Month                                    int64         \n",
      " 19  DayofMonth                               int64         \n",
      " 20  DayOfWeek                                int64         \n",
      " 21  Marketing_Airline_Network                object        \n",
      " 22  Operated_or_Branded_Code_Share_Partners  object        \n",
      " 23  DOT_ID_Marketing_Airline                 int64         \n",
      " 24  IATA_Code_Marketing_Airline              object        \n",
      " 25  Flight_Number_Marketing_Airline          int64         \n",
      " 26  Operating_Airline                        object        \n",
      " 27  DOT_ID_Operating_Airline                 int64         \n",
      " 28  IATA_Code_Operating_Airline              object        \n",
      " 29  Tail_Number                              object        \n",
      " 30  Flight_Number_Operating_Airline          int64         \n",
      " 31  OriginAirportID                          int64         \n",
      " 32  OriginAirportSeqID                       int64         \n",
      " 33  OriginCityMarketID                       int64         \n",
      " 34  OriginCityName                           object        \n",
      " 35  OriginState                              object        \n",
      " 36  OriginStateFips                          int64         \n",
      " 37  OriginStateName                          object        \n",
      " 38  OriginWac                                int64         \n",
      " 39  DestAirportID                            int64         \n",
      " 40  DestAirportSeqID                         int64         \n",
      " 41  DestCityMarketID                         int64         \n",
      " 42  DestCityName                             object        \n",
      " 43  DestState                                object        \n",
      " 44  DestStateFips                            int64         \n",
      " 45  DestStateName                            object        \n",
      " 46  DestWac                                  int64         \n",
      " 47  DepDel15                                 float64       \n",
      " 48  DepartureDelayGroups                     float64       \n",
      " 49  DepTimeBlk                               object        \n",
      " 50  TaxiOut                                  float64       \n",
      " 51  WheelsOff                                float64       \n",
      " 52  WheelsOn                                 float64       \n",
      " 53  TaxiIn                                   float64       \n",
      " 54  CRSArrTime                               int64         \n",
      " 55  ArrDelay                                 float64       \n",
      " 56  ArrDel15                                 float64       \n",
      " 57  ArrivalDelayGroups                       float64       \n",
      " 58  ArrTimeBlk                               object        \n",
      " 59  DistanceGroup                            int64         \n",
      " 60  DivAirportLandings                       int64         \n",
      "dtypes: bool(2), datetime64[ns](1), float64(18), int64(23), object(17)\n",
      "memory usage: 1.8+ GB\n"
     ]
    }
   ],
   "source": [
    "df.info()"
   ]
  },
  {
   "cell_type": "code",
   "execution_count": 12,
   "metadata": {},
   "outputs": [
    {
     "data": {
      "text/plain": [
       "(3944916, 61)"
      ]
     },
     "execution_count": 12,
     "metadata": {},
     "output_type": "execute_result"
    }
   ],
   "source": [
    "df.shape"
   ]
  },
  {
   "cell_type": "code",
   "execution_count": 13,
   "metadata": {},
   "outputs": [
    {
     "data": {
      "text/plain": [
       "\"\\ndf.loc[:, ['Year', 'Airline', 'Origin', 'Dest', 'Diverted', 'DepTime', 'DepDelayMinutes', \\n'ArrTime', 'ArrDelayMinutes', 'Month', 'DayofMonth', 'DayOfWeek', 'OriginAirportID', \\n'OriginCityName', 'DestAirportID', 'DestCityName', 'CRSArrTime', 'TotalDelay']]\\n\\n\""
      ]
     },
     "execution_count": 13,
     "metadata": {},
     "output_type": "execute_result"
    }
   ],
   "source": [
    "'''\n",
    "df.loc[:, ['Year', 'Airline', 'Origin', 'Dest', 'Diverted', 'DepTime', 'DepDelayMinutes', \n",
    "'ArrTime', 'ArrDelayMinutes', 'Month', 'DayofMonth', 'DayOfWeek', 'OriginAirportID', \n",
    "'OriginCityName', 'DestAirportID', 'DestCityName', 'CRSArrTime', 'TotalDelay']]\n",
    "\n",
    "'''"
   ]
  },
  {
   "cell_type": "code",
   "execution_count": 14,
   "metadata": {},
   "outputs": [],
   "source": [
    "df2 = df.loc[:, ['Year', 'FlightDate', 'Airline', 'Origin', 'Dest', 'Diverted', 'DepTime', 'DepDelayMinutes', 'ArrTime', 'ArrDelayMinutes', 'Month', 'DayofMonth', 'DayOfWeek', 'OriginAirportID', 'OriginCityName', 'DestAirportID', 'DestCityName', 'CRSArrTime']]"
   ]
  },
  {
   "cell_type": "code",
   "execution_count": 15,
   "metadata": {},
   "outputs": [
    {
     "data": {
      "text/html": [
       "<div>\n",
       "<style scoped>\n",
       "    .dataframe tbody tr th:only-of-type {\n",
       "        vertical-align: middle;\n",
       "    }\n",
       "\n",
       "    .dataframe tbody tr th {\n",
       "        vertical-align: top;\n",
       "    }\n",
       "\n",
       "    .dataframe thead th {\n",
       "        text-align: right;\n",
       "    }\n",
       "</style>\n",
       "<table border=\"1\" class=\"dataframe\">\n",
       "  <thead>\n",
       "    <tr style=\"text-align: right;\">\n",
       "      <th></th>\n",
       "      <th>Year</th>\n",
       "      <th>FlightDate</th>\n",
       "      <th>Airline</th>\n",
       "      <th>Origin</th>\n",
       "      <th>Dest</th>\n",
       "      <th>Diverted</th>\n",
       "      <th>DepTime</th>\n",
       "      <th>DepDelayMinutes</th>\n",
       "      <th>ArrTime</th>\n",
       "      <th>ArrDelayMinutes</th>\n",
       "      <th>Month</th>\n",
       "      <th>DayofMonth</th>\n",
       "      <th>DayOfWeek</th>\n",
       "      <th>OriginAirportID</th>\n",
       "      <th>OriginCityName</th>\n",
       "      <th>DestAirportID</th>\n",
       "      <th>DestCityName</th>\n",
       "      <th>CRSArrTime</th>\n",
       "    </tr>\n",
       "  </thead>\n",
       "  <tbody>\n",
       "    <tr>\n",
       "      <th>0</th>\n",
       "      <td>2022</td>\n",
       "      <td>2022-04-04</td>\n",
       "      <td>Commutair Aka Champlain Enterprises, Inc.</td>\n",
       "      <td>GJT</td>\n",
       "      <td>DEN</td>\n",
       "      <td>False</td>\n",
       "      <td>1123.0</td>\n",
       "      <td>0.0</td>\n",
       "      <td>1228.0</td>\n",
       "      <td>0.0</td>\n",
       "      <td>4</td>\n",
       "      <td>4</td>\n",
       "      <td>1</td>\n",
       "      <td>11921</td>\n",
       "      <td>Grand Junction, CO</td>\n",
       "      <td>11292</td>\n",
       "      <td>Denver, CO</td>\n",
       "      <td>1245</td>\n",
       "    </tr>\n",
       "    <tr>\n",
       "      <th>1</th>\n",
       "      <td>2022</td>\n",
       "      <td>2022-04-04</td>\n",
       "      <td>Commutair Aka Champlain Enterprises, Inc.</td>\n",
       "      <td>HRL</td>\n",
       "      <td>IAH</td>\n",
       "      <td>False</td>\n",
       "      <td>728.0</td>\n",
       "      <td>0.0</td>\n",
       "      <td>848.0</td>\n",
       "      <td>0.0</td>\n",
       "      <td>4</td>\n",
       "      <td>4</td>\n",
       "      <td>1</td>\n",
       "      <td>12206</td>\n",
       "      <td>Harlingen/San Benito, TX</td>\n",
       "      <td>12266</td>\n",
       "      <td>Houston, TX</td>\n",
       "      <td>849</td>\n",
       "    </tr>\n",
       "    <tr>\n",
       "      <th>2</th>\n",
       "      <td>2022</td>\n",
       "      <td>2022-04-04</td>\n",
       "      <td>Commutair Aka Champlain Enterprises, Inc.</td>\n",
       "      <td>DRO</td>\n",
       "      <td>DEN</td>\n",
       "      <td>False</td>\n",
       "      <td>1514.0</td>\n",
       "      <td>0.0</td>\n",
       "      <td>1636.0</td>\n",
       "      <td>0.0</td>\n",
       "      <td>4</td>\n",
       "      <td>4</td>\n",
       "      <td>1</td>\n",
       "      <td>11413</td>\n",
       "      <td>Durango, CO</td>\n",
       "      <td>11292</td>\n",
       "      <td>Denver, CO</td>\n",
       "      <td>1639</td>\n",
       "    </tr>\n",
       "    <tr>\n",
       "      <th>3</th>\n",
       "      <td>2022</td>\n",
       "      <td>2022-04-04</td>\n",
       "      <td>Commutair Aka Champlain Enterprises, Inc.</td>\n",
       "      <td>IAH</td>\n",
       "      <td>GPT</td>\n",
       "      <td>False</td>\n",
       "      <td>1430.0</td>\n",
       "      <td>0.0</td>\n",
       "      <td>1547.0</td>\n",
       "      <td>0.0</td>\n",
       "      <td>4</td>\n",
       "      <td>4</td>\n",
       "      <td>1</td>\n",
       "      <td>12266</td>\n",
       "      <td>Houston, TX</td>\n",
       "      <td>11973</td>\n",
       "      <td>Gulfport/Biloxi, MS</td>\n",
       "      <td>1605</td>\n",
       "    </tr>\n",
       "    <tr>\n",
       "      <th>4</th>\n",
       "      <td>2022</td>\n",
       "      <td>2022-04-04</td>\n",
       "      <td>Commutair Aka Champlain Enterprises, Inc.</td>\n",
       "      <td>DRO</td>\n",
       "      <td>DEN</td>\n",
       "      <td>False</td>\n",
       "      <td>1135.0</td>\n",
       "      <td>0.0</td>\n",
       "      <td>1251.0</td>\n",
       "      <td>6.0</td>\n",
       "      <td>4</td>\n",
       "      <td>4</td>\n",
       "      <td>1</td>\n",
       "      <td>11413</td>\n",
       "      <td>Durango, CO</td>\n",
       "      <td>11292</td>\n",
       "      <td>Denver, CO</td>\n",
       "      <td>1245</td>\n",
       "    </tr>\n",
       "  </tbody>\n",
       "</table>\n",
       "</div>"
      ],
      "text/plain": [
       "   Year FlightDate                                    Airline Origin Dest  \\\n",
       "0  2022 2022-04-04  Commutair Aka Champlain Enterprises, Inc.    GJT  DEN   \n",
       "1  2022 2022-04-04  Commutair Aka Champlain Enterprises, Inc.    HRL  IAH   \n",
       "2  2022 2022-04-04  Commutair Aka Champlain Enterprises, Inc.    DRO  DEN   \n",
       "3  2022 2022-04-04  Commutair Aka Champlain Enterprises, Inc.    IAH  GPT   \n",
       "4  2022 2022-04-04  Commutair Aka Champlain Enterprises, Inc.    DRO  DEN   \n",
       "\n",
       "   Diverted  DepTime  DepDelayMinutes  ArrTime  ArrDelayMinutes  Month  \\\n",
       "0     False   1123.0              0.0   1228.0              0.0      4   \n",
       "1     False    728.0              0.0    848.0              0.0      4   \n",
       "2     False   1514.0              0.0   1636.0              0.0      4   \n",
       "3     False   1430.0              0.0   1547.0              0.0      4   \n",
       "4     False   1135.0              0.0   1251.0              6.0      4   \n",
       "\n",
       "   DayofMonth  DayOfWeek  OriginAirportID            OriginCityName  \\\n",
       "0           4          1            11921        Grand Junction, CO   \n",
       "1           4          1            12206  Harlingen/San Benito, TX   \n",
       "2           4          1            11413               Durango, CO   \n",
       "3           4          1            12266               Houston, TX   \n",
       "4           4          1            11413               Durango, CO   \n",
       "\n",
       "   DestAirportID         DestCityName  CRSArrTime  \n",
       "0          11292           Denver, CO        1245  \n",
       "1          12266          Houston, TX         849  \n",
       "2          11292           Denver, CO        1639  \n",
       "3          11973  Gulfport/Biloxi, MS        1605  \n",
       "4          11292           Denver, CO        1245  "
      ]
     },
     "execution_count": 15,
     "metadata": {},
     "output_type": "execute_result"
    }
   ],
   "source": [
    "df2.head()"
   ]
  },
  {
   "cell_type": "code",
   "execution_count": 16,
   "metadata": {},
   "outputs": [
    {
     "data": {
      "text/plain": [
       "array(['Commutair Aka Champlain Enterprises, Inc.',\n",
       "       'GoJet Airlines, LLC d/b/a United Express',\n",
       "       'Air Wisconsin Airlines Corp', 'Mesa Airlines Inc.',\n",
       "       'Southwest Airlines Co.', 'Republic Airlines', 'Endeavor Air Inc.',\n",
       "       'American Airlines Inc.', 'Capital Cargo International',\n",
       "       'SkyWest Airlines Inc.', 'Alaska Airlines Inc.', 'JetBlue Airways',\n",
       "       'Delta Air Lines Inc.', 'Frontier Airlines Inc.', 'Allegiant Air',\n",
       "       'Hawaiian Airlines Inc.', 'Envoy Air', 'Spirit Air Lines',\n",
       "       'Comair Inc.', 'Horizon Air', 'United Air Lines Inc.'],\n",
       "      dtype=object)"
      ]
     },
     "execution_count": 16,
     "metadata": {},
     "output_type": "execute_result"
    }
   ],
   "source": [
    "df2['Airline'].unique()"
   ]
  },
  {
   "cell_type": "code",
   "execution_count": 17,
   "metadata": {},
   "outputs": [
    {
     "data": {
      "text/plain": [
       "array(['C5', 'G7', 'ZW', 'YV', 'WN', 'YX', '9E', 'AA', 'PT', 'OO', 'AS',\n",
       "       'B6', 'DL', 'F9', 'G4', 'HA', 'MQ', 'NK', 'OH', 'QX', 'UA'],\n",
       "      dtype=object)"
      ]
     },
     "execution_count": 17,
     "metadata": {},
     "output_type": "execute_result"
    }
   ],
   "source": [
    "df['IATA_Code_Operating_Airline'].unique()"
   ]
  },
  {
   "cell_type": "code",
   "execution_count": 18,
   "metadata": {},
   "outputs": [
    {
     "data": {
      "text/plain": [
       "array(['GJT', 'HRL', 'DRO', 'IAH', 'DEN', 'TYS', 'MOB', 'LNK', 'BHM',\n",
       "       'IAD', 'ECP', 'AEX', 'LFT', 'BTR', 'ABQ', 'BUF', 'ALB', 'HSV',\n",
       "       'TUL', 'CPR', 'CRP', 'EWR', 'DCA', 'STL', 'CVG', 'RIC', 'PVD',\n",
       "       'CLT', 'GSO', 'ERI', 'ORD', 'LEX', 'ABE', 'CAK', 'AVL', 'DAY',\n",
       "       'CHO', 'ROA', 'PWM', 'LIT', 'MKE', 'BTV', 'OMA', 'GRB', 'MLI',\n",
       "       'SDF', 'FNT', 'CHS', 'PIT', 'TVC', 'ATW', 'DLH', 'ROC', 'SPI',\n",
       "       'HPN', 'MBS', 'CID', 'MYR', 'CAE', 'SGF', 'AVP', 'GRR', 'DSM',\n",
       "       'CLE', 'PIA', 'MSN', 'MDT', 'SBN', 'MEM', 'ICT', 'SHV', 'XNA',\n",
       "       'DIK', 'GPT', 'PNS', 'LRD', 'LCH', 'MFE', 'FLG', 'BRO', 'SAF',\n",
       "       'PQI', 'ORF', 'LGA', 'SYR', 'RDU', 'ILM', 'IND', 'PHL', 'CMH',\n",
       "       'SCE', 'ITH', 'JAX', 'OKC', 'JAN', 'GSP', 'TXK', 'ELP', 'MAF',\n",
       "       'AUS', 'IDA', 'BNA', 'SAV', 'AMA', 'ATL', 'BDL', 'BLI', 'BOI',\n",
       "       'BOS', 'BUR', 'BWI', 'BZN', 'COS', 'DAL', 'DTW', 'EUG', 'FAT',\n",
       "       'FLL', 'GEG', 'HDN', 'HNL', 'HOU', 'ISP', 'ITO', 'KOA', 'LAS',\n",
       "       'LAX', 'LBB', 'LGB', 'LIH', 'MCI', 'MCO', 'MDW', 'MHT', 'MIA',\n",
       "       'MSP', 'MSY', 'MTJ', 'OAK', 'OGG', 'ONT', 'PBI', 'PDX', 'PHX',\n",
       "       'PSP', 'RNO', 'RSW', 'SAN', 'SAT', 'SBA', 'SEA', 'SFO', 'SJC',\n",
       "       'SJU', 'SLC', 'SMF', 'SNA', 'SRQ', 'TPA', 'TUS', 'VPS', 'DFW',\n",
       "       'HHH', 'BFL', 'FAR', 'YUM', 'FSD', 'MRY', 'BMI', 'RAP', 'DAB',\n",
       "       'FAY', 'GNV', 'MGM', 'STS', 'TLH', 'MFR', 'JFK', 'AGS', 'EYW',\n",
       "       'ORH', 'BGR', 'CHA', 'CRW', 'BQK', 'OAJ', 'LAN', 'AZO', 'DHN',\n",
       "       'TRI', 'BIS', 'VLD', 'ABY', 'GTR', 'MLU', 'MOT', 'RST', 'CWA',\n",
       "       'CSG', 'EVV', 'GFK', 'FWA', 'BGM', 'STT', 'EGE', 'JAC', 'MSO',\n",
       "       'STX', 'GUC', 'PHF', 'PGV', 'ART', 'HTS', 'LYH', 'FLO', 'SBY',\n",
       "       'ADQ', 'ANC', 'BET', 'BRW', 'JNU', 'KTN', 'CDV', 'YAK', 'FAI',\n",
       "       'PSG', 'WRG', 'SIT', 'OME', 'OTZ', 'PAE', 'ADK', 'SCC', 'BQN',\n",
       "       'PSE', 'BIL', 'FCA', 'MLB', 'ILG', 'TTN', 'SWF', 'USA', 'SFB',\n",
       "       'PIE', 'AZA', 'RFD', 'GRI', 'PBG', 'PGD', 'PVU', 'TOL', 'BLV',\n",
       "       'LCK', 'ELM', 'PSM', 'SCK', 'IAG', 'PSC', 'CKB', 'STC', 'HGR',\n",
       "       'OWB', 'SMX', 'GTF', 'RDM', 'OGD', 'PPG', 'GCK', 'ACT', 'ALO',\n",
       "       'LAW', 'GGG', 'COU', 'SPS', 'ABI', 'CMI', 'DRT', 'FSM', 'LSE',\n",
       "       'TYR', 'GRK', 'DBQ', 'BPT', 'MHK', 'SJT', 'SWO', 'MQT', 'SBP',\n",
       "       'CLL', 'ACY', 'LBE', 'EWN', 'ROW', 'SGU', 'ACV', 'ASE', 'XWA',\n",
       "       'HLN', 'OTH', 'SLN', 'LWS', 'HOB', 'HYS', 'ALS', 'CNY', 'RKS',\n",
       "       'DVL', 'JMS', 'PAH', 'PRC', 'RIW', 'BFF', 'DDC', 'SUX', 'CMX',\n",
       "       'MEI', 'JLN', 'EAU', 'GCC', 'SHR', 'TBN', 'FOD', 'LAR', 'VEL',\n",
       "       'OGS', 'PUB', 'VCT', 'DEC', 'CYS', 'LBF', 'JST', 'MCW', 'RDD',\n",
       "       'SHD', 'CGI', 'EAR', 'MKG', 'LWB', 'LBL', 'COD', 'PIB', 'BTM',\n",
       "       'SUN', 'IMT', 'RHI', 'ESC', 'APN', 'ABR', 'PLN', 'INL', 'BRD',\n",
       "       'HIB', 'CIU', 'PIH', 'TWF', 'EKO', 'BJI', 'CDC', 'YKM', 'PUW',\n",
       "       'ALW', 'EAT', 'DLG', 'AKN', 'GUM', 'SPN', 'BIH', 'WYS', 'ACK',\n",
       "       'BKG', 'GST', 'MVY', 'HYA', 'PIR', 'ATY'], dtype=object)"
      ]
     },
     "execution_count": 18,
     "metadata": {},
     "output_type": "execute_result"
    }
   ],
   "source": [
    "df['Origin'].unique()"
   ]
  },
  {
   "cell_type": "code",
   "execution_count": 19,
   "metadata": {},
   "outputs": [],
   "source": [
    "df_origin_dest = df[['Origin','Dest']]\n"
   ]
  },
  {
   "cell_type": "code",
   "execution_count": 20,
   "metadata": {},
   "outputs": [
    {
     "name": "stderr",
     "output_type": "stream",
     "text": [
      "C:\\Users\\lemon\\AppData\\Local\\Temp\\ipykernel_18252\\613174318.py:1: SettingWithCopyWarning: \n",
      "A value is trying to be set on a copy of a slice from a DataFrame\n",
      "\n",
      "See the caveats in the documentation: https://pandas.pydata.org/pandas-docs/stable/user_guide/indexing.html#returning-a-view-versus-a-copy\n",
      "  df_origin_dest.drop_duplicates(inplace=True)\n"
     ]
    }
   ],
   "source": [
    "df_origin_dest.drop_duplicates(inplace=True)\n"
   ]
  },
  {
   "cell_type": "code",
   "execution_count": 21,
   "metadata": {},
   "outputs": [],
   "source": [
    "df_origin_dest.to_csv('df_origin_dest.csv', index=False)\n"
   ]
  },
  {
   "cell_type": "code",
   "execution_count": null,
   "metadata": {},
   "outputs": [],
   "source": []
  },
  {
   "cell_type": "code",
   "execution_count": null,
   "metadata": {},
   "outputs": [],
   "source": []
  },
  {
   "cell_type": "code",
   "execution_count": 22,
   "metadata": {},
   "outputs": [],
   "source": [
    "# use label encoding\n",
    "from sklearn import preprocessing \n",
    "from sklearn.preprocessing import LabelEncoder\n"
   ]
  },
  {
   "cell_type": "code",
   "execution_count": 23,
   "metadata": {},
   "outputs": [],
   "source": [
    "# Creating label encoder instance\n",
    "label_encoder = LabelEncoder()"
   ]
  },
  {
   "cell_type": "markdown",
   "metadata": {},
   "source": [
    "### Encoding Airline"
   ]
  },
  {
   "cell_type": "code",
   "execution_count": 24,
   "metadata": {},
   "outputs": [
    {
     "data": {
      "text/plain": [
       "array(['Commutair Aka Champlain Enterprises, Inc.',\n",
       "       'GoJet Airlines, LLC d/b/a United Express',\n",
       "       'Air Wisconsin Airlines Corp', 'Mesa Airlines Inc.',\n",
       "       'Southwest Airlines Co.', 'Republic Airlines', 'Endeavor Air Inc.',\n",
       "       'American Airlines Inc.', 'Capital Cargo International',\n",
       "       'SkyWest Airlines Inc.', 'Alaska Airlines Inc.', 'JetBlue Airways',\n",
       "       'Delta Air Lines Inc.', 'Frontier Airlines Inc.', 'Allegiant Air',\n",
       "       'Hawaiian Airlines Inc.', 'Envoy Air', 'Spirit Air Lines',\n",
       "       'Comair Inc.', 'Horizon Air', 'United Air Lines Inc.'],\n",
       "      dtype=object)"
      ]
     },
     "execution_count": 24,
     "metadata": {},
     "output_type": "execute_result"
    }
   ],
   "source": [
    "df['Airline'].unique()"
   ]
  },
  {
   "cell_type": "code",
   "execution_count": 25,
   "metadata": {},
   "outputs": [],
   "source": [
    "df['Airline'] = label_encoder.fit_transform(df['Airline'])"
   ]
  },
  {
   "cell_type": "code",
   "execution_count": 26,
   "metadata": {},
   "outputs": [
    {
     "data": {
      "text/plain": [
       "array([ 6, 11,  0, 15, 18, 16,  8,  3,  4, 17,  1, 14,  7, 10,  2, 12,  9,\n",
       "       19,  5, 13, 20])"
      ]
     },
     "execution_count": 26,
     "metadata": {},
     "output_type": "execute_result"
    }
   ],
   "source": [
    "df['Airline'].unique()"
   ]
  },
  {
   "cell_type": "markdown",
   "metadata": {},
   "source": [
    "### Encoding Origin"
   ]
  },
  {
   "cell_type": "code",
   "execution_count": 27,
   "metadata": {},
   "outputs": [
    {
     "data": {
      "text/plain": [
       "array(['GJT', 'HRL', 'DRO', 'IAH', 'DEN', 'TYS', 'MOB', 'LNK', 'BHM',\n",
       "       'IAD', 'ECP', 'AEX', 'LFT', 'BTR', 'ABQ', 'BUF', 'ALB', 'HSV',\n",
       "       'TUL', 'CPR', 'CRP', 'EWR', 'DCA', 'STL', 'CVG', 'RIC', 'PVD',\n",
       "       'CLT', 'GSO', 'ERI', 'ORD', 'LEX', 'ABE', 'CAK', 'AVL', 'DAY',\n",
       "       'CHO', 'ROA', 'PWM', 'LIT', 'MKE', 'BTV', 'OMA', 'GRB', 'MLI',\n",
       "       'SDF', 'FNT', 'CHS', 'PIT', 'TVC', 'ATW', 'DLH', 'ROC', 'SPI',\n",
       "       'HPN', 'MBS', 'CID', 'MYR', 'CAE', 'SGF', 'AVP', 'GRR', 'DSM',\n",
       "       'CLE', 'PIA', 'MSN', 'MDT', 'SBN', 'MEM', 'ICT', 'SHV', 'XNA',\n",
       "       'DIK', 'GPT', 'PNS', 'LRD', 'LCH', 'MFE', 'FLG', 'BRO', 'SAF',\n",
       "       'PQI', 'ORF', 'LGA', 'SYR', 'RDU', 'ILM', 'IND', 'PHL', 'CMH',\n",
       "       'SCE', 'ITH', 'JAX', 'OKC', 'JAN', 'GSP', 'TXK', 'ELP', 'MAF',\n",
       "       'AUS', 'IDA', 'BNA', 'SAV', 'AMA', 'ATL', 'BDL', 'BLI', 'BOI',\n",
       "       'BOS', 'BUR', 'BWI', 'BZN', 'COS', 'DAL', 'DTW', 'EUG', 'FAT',\n",
       "       'FLL', 'GEG', 'HDN', 'HNL', 'HOU', 'ISP', 'ITO', 'KOA', 'LAS',\n",
       "       'LAX', 'LBB', 'LGB', 'LIH', 'MCI', 'MCO', 'MDW', 'MHT', 'MIA',\n",
       "       'MSP', 'MSY', 'MTJ', 'OAK', 'OGG', 'ONT', 'PBI', 'PDX', 'PHX',\n",
       "       'PSP', 'RNO', 'RSW', 'SAN', 'SAT', 'SBA', 'SEA', 'SFO', 'SJC',\n",
       "       'SJU', 'SLC', 'SMF', 'SNA', 'SRQ', 'TPA', 'TUS', 'VPS', 'DFW',\n",
       "       'HHH', 'BFL', 'FAR', 'YUM', 'FSD', 'MRY', 'BMI', 'RAP', 'DAB',\n",
       "       'FAY', 'GNV', 'MGM', 'STS', 'TLH', 'MFR', 'JFK', 'AGS', 'EYW',\n",
       "       'ORH', 'BGR', 'CHA', 'CRW', 'BQK', 'OAJ', 'LAN', 'AZO', 'DHN',\n",
       "       'TRI', 'BIS', 'VLD', 'ABY', 'GTR', 'MLU', 'MOT', 'RST', 'CWA',\n",
       "       'CSG', 'EVV', 'GFK', 'FWA', 'BGM', 'STT', 'EGE', 'JAC', 'MSO',\n",
       "       'STX', 'GUC', 'PHF', 'PGV', 'ART', 'HTS', 'LYH', 'FLO', 'SBY',\n",
       "       'ADQ', 'ANC', 'BET', 'BRW', 'JNU', 'KTN', 'CDV', 'YAK', 'FAI',\n",
       "       'PSG', 'WRG', 'SIT', 'OME', 'OTZ', 'PAE', 'ADK', 'SCC', 'BQN',\n",
       "       'PSE', 'BIL', 'FCA', 'MLB', 'ILG', 'TTN', 'SWF', 'USA', 'SFB',\n",
       "       'PIE', 'AZA', 'RFD', 'GRI', 'PBG', 'PGD', 'PVU', 'TOL', 'BLV',\n",
       "       'LCK', 'ELM', 'PSM', 'SCK', 'IAG', 'PSC', 'CKB', 'STC', 'HGR',\n",
       "       'OWB', 'SMX', 'GTF', 'RDM', 'OGD', 'PPG', 'GCK', 'ACT', 'ALO',\n",
       "       'LAW', 'GGG', 'COU', 'SPS', 'ABI', 'CMI', 'DRT', 'FSM', 'LSE',\n",
       "       'TYR', 'GRK', 'DBQ', 'BPT', 'MHK', 'SJT', 'SWO', 'MQT', 'SBP',\n",
       "       'CLL', 'ACY', 'LBE', 'EWN', 'ROW', 'SGU', 'ACV', 'ASE', 'XWA',\n",
       "       'HLN', 'OTH', 'SLN', 'LWS', 'HOB', 'HYS', 'ALS', 'CNY', 'RKS',\n",
       "       'DVL', 'JMS', 'PAH', 'PRC', 'RIW', 'BFF', 'DDC', 'SUX', 'CMX',\n",
       "       'MEI', 'JLN', 'EAU', 'GCC', 'SHR', 'TBN', 'FOD', 'LAR', 'VEL',\n",
       "       'OGS', 'PUB', 'VCT', 'DEC', 'CYS', 'LBF', 'JST', 'MCW', 'RDD',\n",
       "       'SHD', 'CGI', 'EAR', 'MKG', 'LWB', 'LBL', 'COD', 'PIB', 'BTM',\n",
       "       'SUN', 'IMT', 'RHI', 'ESC', 'APN', 'ABR', 'PLN', 'INL', 'BRD',\n",
       "       'HIB', 'CIU', 'PIH', 'TWF', 'EKO', 'BJI', 'CDC', 'YKM', 'PUW',\n",
       "       'ALW', 'EAT', 'DLG', 'AKN', 'GUM', 'SPN', 'BIH', 'WYS', 'ACK',\n",
       "       'BKG', 'GST', 'MVY', 'HYA', 'PIR', 'ATY'], dtype=object)"
      ]
     },
     "execution_count": 27,
     "metadata": {},
     "output_type": "execute_result"
    }
   ],
   "source": [
    "df['Origin'].unique()"
   ]
  },
  {
   "cell_type": "code",
   "execution_count": 28,
   "metadata": {},
   "outputs": [],
   "source": [
    "df['Origin'] = label_encoder.fit_transform(df['Origin'])"
   ]
  },
  {
   "cell_type": "code",
   "execution_count": 29,
   "metadata": {},
   "outputs": [
    {
     "data": {
      "text/plain": [
       "array([141, 164, 103, 171,  97, 362, 235, 209,  37, 169, 111,  11, 204,\n",
       "        56,   2,  58,  14, 165, 356,  83,  84, 121,  94, 341,  87, 298,\n",
       "       289,  75, 148, 116, 255, 203,   0,  63,  27,  92,  68, 302, 291,\n",
       "       208, 230,  57, 252, 144, 233, 318, 131,  69, 276, 358,  24, 102,\n",
       "       303, 336, 163, 216,  70, 245,  62, 322,  28, 147, 105,  73, 271,\n",
       "       239, 220, 312, 223, 172, 326, 370, 100, 143, 278, 210, 201, 224,\n",
       "       128,  53, 307, 280, 256, 205, 349, 295, 175, 177, 269,  76, 316,\n",
       "       180, 184, 251, 183, 149, 360, 115, 215,  26, 173,  46, 310,  18,\n",
       "        23,  31,  43,  47,  48,  59,  60,  61,  81,  91, 106, 118, 125,\n",
       "       129, 138, 155, 160, 162, 179, 181, 190, 194, 196, 197, 206, 207,\n",
       "       217, 218, 221, 228, 229, 241, 242, 243, 247, 249, 254, 264, 265,\n",
       "       270, 286, 301, 306, 308, 309, 311, 319, 321, 328, 330, 331, 333,\n",
       "       335, 339, 353, 357, 367,  98, 157,  34, 124, 374, 133, 238,  45,\n",
       "       292,  90, 126, 142, 226, 342, 351, 225, 185,  12, 122, 257,  36,\n",
       "        67,  85,  50, 246, 192,  30,  99, 354,  40, 366,   4, 152, 234,\n",
       "       236, 305,  88,  86, 119, 139, 135,  35, 343, 112, 182, 240, 344,\n",
       "       153, 268, 267,  21, 166, 214, 130, 314,  10,  19,  32,  54, 188,\n",
       "       191,  65, 372, 123, 284, 368, 327, 253, 259, 261,   9, 315,  51,\n",
       "       283,  39, 127, 232, 174, 355, 347, 363, 320, 273,  29, 296, 145,\n",
       "       263, 266, 290, 352,  44, 202, 114, 285, 317, 170, 282,  72, 340,\n",
       "       156, 260, 334, 151, 294, 248, 279, 137,   6,  15, 195, 140,  82,\n",
       "       338,   1,  77, 104, 134, 211, 361, 146,  93,  49, 227, 329, 348,\n",
       "       237, 313,  74,   8, 198, 120, 304, 323,   7,  22, 371, 159, 258,\n",
       "       332, 213, 161, 168,  16,  79, 300, 107, 187, 262, 281, 299,  33,\n",
       "        95, 346,  78, 222, 186, 110, 136, 325, 350, 132, 193, 365, 250,\n",
       "       287, 364,  96,  89, 199, 189, 219, 293, 324,  66, 108, 231, 212,\n",
       "       200,  80, 272,  55, 345, 176, 297, 117,  20,   3, 277, 178,  52,\n",
       "       158,  71, 274, 359, 113,  41,  64, 373, 288,  17, 109, 101,  13,\n",
       "       154, 337,  38, 369,   5,  42, 150, 244, 167, 275,  25])"
      ]
     },
     "execution_count": 29,
     "metadata": {},
     "output_type": "execute_result"
    }
   ],
   "source": [
    "df['Origin'].unique()"
   ]
  },
  {
   "cell_type": "markdown",
   "metadata": {},
   "source": [
    "### Encoding Dest"
   ]
  },
  {
   "cell_type": "code",
   "execution_count": 30,
   "metadata": {},
   "outputs": [
    {
     "data": {
      "text/plain": [
       "array(['DEN', 'IAH', 'GPT', 'TUL', 'LCH', 'AEX', 'MOB', 'CPR', 'OKC',\n",
       "       'GJT', 'DRO', 'SAF', 'SHV', 'MFE', 'DIK', 'HRL', 'BTR', 'HSV',\n",
       "       'ICT', 'SGF', 'LNK', 'LFT', 'CRP', 'ROC', 'PVD', 'IAD', 'DCA',\n",
       "       'IND', 'CLT', 'EWR', 'BUF', 'AVL', 'ITH', 'LGA', 'RIC', 'STL',\n",
       "       'PHL', 'ORD', 'CAE', 'MKE', 'BTV', 'ERI', 'DAY', 'ROA', 'ATW',\n",
       "       'CLE', 'AVP', 'DLH', 'TYS', 'OMA', 'FNT', 'CHS', 'MLI', 'MBS',\n",
       "       'TVC', 'PWM', 'GRB', 'GSO', 'CID', 'MYR', 'PIA', 'MSN', 'CHO',\n",
       "       'ABE', 'SDF', 'MDT', 'GRR', 'MEM', 'HPN', 'LIT', 'DSM', 'LEX',\n",
       "       'SPI', 'CAK', 'ALB', 'SBN', 'PIT', 'PNS', 'BHM', 'BRO', 'XNA',\n",
       "       'LRD', 'TXK', 'CVG', 'ORF', 'SCE', 'CMH', 'PQI', 'ILM', 'SYR',\n",
       "       'RDU', 'JAX', 'ECP', 'JAN', 'ABQ', 'FLG', 'GSP', 'ELP', 'MAF',\n",
       "       'IDA', 'AUS', 'BNA', 'SAV', 'BUR', 'DAL', 'HOU', 'LAS', 'LAX',\n",
       "       'MDW', 'PHX', 'SAN', 'BWI', 'TPA', 'FLL', 'MCI', 'MCO', 'MIA',\n",
       "       'MSY', 'PBI', 'RSW', 'SAT', 'SRQ', 'AMA', 'ATL', 'LBB', 'LGB',\n",
       "       'MSP', 'OAK', 'ONT', 'SJC', 'SLC', 'SMF', 'SNA', 'BOS', 'DTW',\n",
       "       'ISP', 'VPS', 'RNO', 'SFO', 'BDL', 'MHT', 'SJU', 'COS', 'BOI',\n",
       "       'BZN', 'FAT', 'GEG', 'HDN', 'MTJ', 'PDX', 'PSP', 'SBA', 'SEA',\n",
       "       'TUS', 'ITO', 'KOA', 'LIH', 'OGG', 'HNL', 'BLI', 'EUG', 'HHH',\n",
       "       'DFW', 'FAR', 'BFL', 'YUM', 'MRY', 'BMI', 'GNV', 'DAB', 'FSD',\n",
       "       'FAY', 'MGM', 'STS', 'RAP', 'TLH', 'MFR', 'JFK', 'AGS', 'EYW',\n",
       "       'ORH', 'BGR', 'CRW', 'CHA', 'VLD', 'OAJ', 'CWA', 'CSG', 'FWA',\n",
       "       'LAN', 'AZO', 'ABY', 'DHN', 'BIS', 'TRI', 'BQK', 'EVV', 'MLU',\n",
       "       'MOT', 'GTR', 'RST', 'GFK', 'BGM', 'STT', 'EGE', 'STX', 'JAC',\n",
       "       'MSO', 'GUC', 'PHF', 'HTS', 'SBY', 'ART', 'FLO', 'LYH', 'PGV',\n",
       "       'ANC', 'BET', 'BRW', 'KTN', 'YAK', 'CDV', 'WRG', 'PSG', 'JNU',\n",
       "       'FAI', 'SIT', 'ADQ', 'OME', 'OTZ', 'PAE', 'ADK', 'SCC', 'BQN',\n",
       "       'PSE', 'FCA', 'MLB', 'BIL', 'ILG', 'TTN', 'SWF', 'SFB', 'PBG',\n",
       "       'PIE', 'ELM', 'AZA', 'IAG', 'OGD', 'PSC', 'SCK', 'USA', 'LCK',\n",
       "       'TOL', 'PVU', 'PGD', 'PSM', 'RFD', 'SMX', 'RDM', 'STC', 'GRI',\n",
       "       'HGR', 'BLV', 'CKB', 'GTF', 'OWB', 'PPG', 'ALO', 'TYR', 'MHK',\n",
       "       'GGG', 'GRK', 'SWO', 'ABI', 'FSM', 'LSE', 'LAW', 'DRT', 'GCK',\n",
       "       'BPT', 'DBQ', 'SJT', 'ACT', 'CMI', 'SPS', 'MQT', 'SBP', 'CLL',\n",
       "       'COU', 'ACY', 'LBE', 'EWN', 'ROW', 'ACV', 'SGU', 'ASE', 'GCC',\n",
       "       'RIW', 'PRC', 'ALS', 'SLN', 'OTH', 'COD', 'HYS', 'HLN', 'HOB',\n",
       "       'RDD', 'JLN', 'SHD', 'JMS', 'PAH', 'BFF', 'VCT', 'CGI', 'LBL',\n",
       "       'SUX', 'CYS', 'DDC', 'RKS', 'JST', 'LAR', 'EAU', 'EAR', 'CNY',\n",
       "       'MEI', 'PIB', 'CMX', 'MCW', 'SHR', 'DVL', 'DEC', 'OGS', 'VEL',\n",
       "       'MKG', 'FOD', 'LBF', 'LWB', 'PUB', 'XWA', 'TBN', 'LWS', 'SUN',\n",
       "       'BTM', 'IMT', 'EKO', 'ABR', 'PLN', 'APN', 'HIB', 'RHI', 'INL',\n",
       "       'CIU', 'PIH', 'BRD', 'ESC', 'TWF', 'BJI', 'CDC', 'YKM', 'ALW',\n",
       "       'PUW', 'EAT', 'DLG', 'AKN', 'GUM', 'SPN', 'BIH', 'WYS', 'ACK',\n",
       "       'BKG', 'GST', 'MVY', 'HYA', 'PIR', 'ATY'], dtype=object)"
      ]
     },
     "execution_count": 30,
     "metadata": {},
     "output_type": "execute_result"
    }
   ],
   "source": [
    "df['Dest'].unique()"
   ]
  },
  {
   "cell_type": "code",
   "execution_count": 31,
   "metadata": {},
   "outputs": [],
   "source": [
    "df['Dest'] = label_encoder.fit_transform(df['Dest'])"
   ]
  },
  {
   "cell_type": "code",
   "execution_count": 32,
   "metadata": {},
   "outputs": [
    {
     "data": {
      "text/plain": [
       "array([ 97, 171, 143, 356, 201,  11, 235,  83, 251, 141, 103, 307, 326,\n",
       "       224, 100, 164,  56, 165, 172, 322, 209, 204,  84, 303, 289, 169,\n",
       "        94, 177,  75, 121,  58,  27, 180, 205, 298, 341, 269, 255,  62,\n",
       "       230,  57, 116,  92, 302,  24,  73,  28, 102, 362, 252, 131,  69,\n",
       "       233, 216, 358, 291, 144, 148,  70, 245, 271, 239,  68,   0, 318,\n",
       "       220, 147, 223, 163, 208, 105, 203, 336,  63,  14, 312, 276, 278,\n",
       "        37,  53, 370, 210, 360,  87, 256, 316,  76, 280, 175, 349, 295,\n",
       "       184, 111, 183,   2, 128, 149, 115, 215, 173,  26,  46, 310,  59,\n",
       "        91, 162, 194, 196, 221, 270, 308,  60, 353, 129, 217, 218, 229,\n",
       "       242, 264, 306, 309, 339,  18,  23, 197, 206, 241, 247, 254, 328,\n",
       "       331, 333, 335,  48, 106, 179, 367, 301, 321,  31, 228, 330,  81,\n",
       "        47,  61, 125, 138, 155, 243, 265, 286, 311, 319, 357, 181, 190,\n",
       "       207, 249, 160,  43, 118, 157,  98, 124,  34, 374, 238,  45, 142,\n",
       "        90, 133, 126, 226, 342, 292, 351, 225, 185,  12, 122, 257,  36,\n",
       "        85,  67, 366, 246,  88,  86, 135, 192,  30,   4,  99,  40, 354,\n",
       "        50, 119, 234, 236, 152, 305, 139,  35, 343, 112, 344, 182, 240,\n",
       "       153, 268, 166, 314,  21, 130, 214, 267,  19,  32,  54, 191, 372,\n",
       "        65, 368, 284, 188, 123, 327,  10, 253, 259, 261,   9, 315,  51,\n",
       "       283, 127, 232,  39, 174, 355, 347, 320, 263, 273, 114,  29, 170,\n",
       "       248, 282, 317, 363, 202, 352, 290, 266, 285, 296, 334, 294, 340,\n",
       "       145, 156,  44,  72, 151, 260, 279,  15, 361, 227, 140, 146, 348,\n",
       "         1, 134, 211, 195, 104, 137,  49,  93, 329,   6,  77, 338, 237,\n",
       "       313,  74,  82,   8, 198, 120, 304,   7, 323,  22, 136, 299, 281,\n",
       "        16, 332, 258,  80, 168, 159, 161, 293, 186, 324, 187, 262,  33,\n",
       "       364,  66, 200, 346,  89,  95, 300, 189, 193, 110, 108,  79, 222,\n",
       "       272,  78, 219, 325, 107,  96, 250, 365, 231, 132, 199, 212, 287,\n",
       "       371, 350, 213, 345,  55, 176, 113,   3, 277,  20, 158, 297, 178,\n",
       "        71, 274,  52, 117, 359,  41,  64, 373,  17, 288, 109, 101,  13,\n",
       "       154, 337,  38, 369,   5,  42, 150, 244, 167, 275,  25])"
      ]
     },
     "execution_count": 32,
     "metadata": {},
     "output_type": "execute_result"
    }
   ],
   "source": [
    "df['Dest'].unique()"
   ]
  },
  {
   "cell_type": "markdown",
   "metadata": {},
   "source": [
    "### Encoding MarketingAirlines\n"
   ]
  },
  {
   "cell_type": "code",
   "execution_count": 33,
   "metadata": {},
   "outputs": [
    {
     "data": {
      "text/plain": [
       "array(['UA', 'WN', 'AA', 'DL', 'AS', 'B6', 'F9', 'G4', 'HA', 'NK'],\n",
       "      dtype=object)"
      ]
     },
     "execution_count": 33,
     "metadata": {},
     "output_type": "execute_result"
    }
   ],
   "source": [
    "df['Marketing_Airline_Network'].unique()"
   ]
  },
  {
   "cell_type": "code",
   "execution_count": 34,
   "metadata": {},
   "outputs": [],
   "source": [
    "df['Marketing_Airline_Network'] = label_encoder.fit_transform(df['Marketing_Airline_Network'])"
   ]
  },
  {
   "cell_type": "code",
   "execution_count": 35,
   "metadata": {},
   "outputs": [
    {
     "data": {
      "text/plain": [
       "array([8, 9, 0, 3, 1, 2, 4, 5, 6, 7])"
      ]
     },
     "execution_count": 35,
     "metadata": {},
     "output_type": "execute_result"
    }
   ],
   "source": [
    "df['Marketing_Airline_Network'].unique()"
   ]
  },
  {
   "cell_type": "markdown",
   "metadata": {},
   "source": [
    "### [SKIP] Encoding Operated_or_Branded_Code_Share_Partners"
   ]
  },
  {
   "cell_type": "code",
   "execution_count": 36,
   "metadata": {},
   "outputs": [
    {
     "data": {
      "text/plain": [
       "array(['UA_CODESHARE', 'WN', 'AA_CODESHARE', 'DL_CODESHARE', 'AA', 'AS',\n",
       "       'B6', 'DL', 'F9', 'G4', 'HA', 'NK', 'AS_CODESHARE', 'UA'],\n",
       "      dtype=object)"
      ]
     },
     "execution_count": 36,
     "metadata": {},
     "output_type": "execute_result"
    }
   ],
   "source": [
    "df['Operated_or_Branded_Code_Share_Partners'].unique()"
   ]
  },
  {
   "cell_type": "code",
   "execution_count": 37,
   "metadata": {},
   "outputs": [],
   "source": [
    "df['Operated_or_Branded_Code_Share_Partners'] = label_encoder.fit_transform(df['Operated_or_Branded_Code_Share_Partners'])"
   ]
  },
  {
   "cell_type": "code",
   "execution_count": 38,
   "metadata": {},
   "outputs": [
    {
     "data": {
      "text/plain": [
       "array([12, 13,  1,  6,  0,  2,  4,  5,  7,  8,  9, 10,  3, 11])"
      ]
     },
     "execution_count": 38,
     "metadata": {},
     "output_type": "execute_result"
    }
   ],
   "source": [
    "df['Operated_or_Branded_Code_Share_Partners'].unique()"
   ]
  },
  {
   "cell_type": "markdown",
   "metadata": {},
   "source": [
    "### [SKIP] Encoding IATA_Code_Marketing_Airline"
   ]
  },
  {
   "cell_type": "code",
   "execution_count": 39,
   "metadata": {},
   "outputs": [
    {
     "data": {
      "text/plain": [
       "array(['UA', 'WN', 'AA', 'DL', 'AS', 'B6', 'F9', 'G4', 'HA', 'NK'],\n",
       "      dtype=object)"
      ]
     },
     "execution_count": 39,
     "metadata": {},
     "output_type": "execute_result"
    }
   ],
   "source": [
    "df['IATA_Code_Marketing_Airline'].unique()"
   ]
  },
  {
   "cell_type": "code",
   "execution_count": 40,
   "metadata": {},
   "outputs": [],
   "source": [
    "df['IATA_Code_Marketing_Airline'] = label_encoder.fit_transform(df['IATA_Code_Marketing_Airline'])"
   ]
  },
  {
   "cell_type": "code",
   "execution_count": 41,
   "metadata": {},
   "outputs": [
    {
     "data": {
      "text/plain": [
       "array([8, 9, 0, 3, 1, 2, 4, 5, 6, 7])"
      ]
     },
     "execution_count": 41,
     "metadata": {},
     "output_type": "execute_result"
    }
   ],
   "source": [
    "df['IATA_Code_Marketing_Airline'].unique()"
   ]
  },
  {
   "cell_type": "markdown",
   "metadata": {},
   "source": [
    "### Encoding Operating_Airline"
   ]
  },
  {
   "cell_type": "code",
   "execution_count": 42,
   "metadata": {},
   "outputs": [
    {
     "data": {
      "text/plain": [
       "array(['C5', 'G7', 'ZW', 'YV', 'WN', 'YX', '9E', 'AA', 'PT', 'OO', 'AS',\n",
       "       'B6', 'DL', 'F9', 'G4', 'HA', 'MQ', 'NK', 'OH', 'QX', 'UA'],\n",
       "      dtype=object)"
      ]
     },
     "execution_count": 42,
     "metadata": {},
     "output_type": "execute_result"
    }
   ],
   "source": [
    "df['Operating_Airline'].unique()"
   ]
  },
  {
   "cell_type": "code",
   "execution_count": 43,
   "metadata": {},
   "outputs": [],
   "source": [
    "df['Operating_Airline'] = label_encoder.fit_transform(df['Operating_Airline'])"
   ]
  },
  {
   "cell_type": "code",
   "execution_count": 44,
   "metadata": {},
   "outputs": [
    {
     "data": {
      "text/plain": [
       "array([ 4,  8, 20, 18, 17, 19,  0,  1, 14, 13,  2,  3,  5,  6,  7,  9, 10,\n",
       "       11, 12, 15, 16])"
      ]
     },
     "execution_count": 44,
     "metadata": {},
     "output_type": "execute_result"
    }
   ],
   "source": [
    "\n",
    "df['Operating_Airline'].unique()"
   ]
  },
  {
   "cell_type": "markdown",
   "metadata": {},
   "source": [
    "### [SKIP] Encoding IATA_Code_Operating_Airline"
   ]
  },
  {
   "cell_type": "code",
   "execution_count": 45,
   "metadata": {},
   "outputs": [
    {
     "data": {
      "text/plain": [
       "array(['C5', 'G7', 'ZW', 'YV', 'WN', 'YX', '9E', 'AA', 'PT', 'OO', 'AS',\n",
       "       'B6', 'DL', 'F9', 'G4', 'HA', 'MQ', 'NK', 'OH', 'QX', 'UA'],\n",
       "      dtype=object)"
      ]
     },
     "execution_count": 45,
     "metadata": {},
     "output_type": "execute_result"
    }
   ],
   "source": [
    "df['IATA_Code_Operating_Airline'].unique()"
   ]
  },
  {
   "cell_type": "code",
   "execution_count": 46,
   "metadata": {},
   "outputs": [],
   "source": [
    "df['IATA_Code_Operating_Airline'] = label_encoder.fit_transform(df['IATA_Code_Operating_Airline'])"
   ]
  },
  {
   "cell_type": "code",
   "execution_count": 47,
   "metadata": {},
   "outputs": [
    {
     "data": {
      "text/plain": [
       "array([ 4,  8, 20, 18, 17, 19,  0,  1, 14, 13,  2,  3,  5,  6,  7,  9, 10,\n",
       "       11, 12, 15, 16])"
      ]
     },
     "execution_count": 47,
     "metadata": {},
     "output_type": "execute_result"
    }
   ],
   "source": [
    "df['IATA_Code_Operating_Airline'].unique()"
   ]
  },
  {
   "cell_type": "markdown",
   "metadata": {},
   "source": [
    "### [SKIP] Encoding Tail_Number"
   ]
  },
  {
   "cell_type": "code",
   "execution_count": 48,
   "metadata": {},
   "outputs": [
    {
     "data": {
      "text/plain": [
       "array(['N21144', 'N16170', 'N11184', ..., 'N921FJ', 'N909FJ', 'N913FJ'],\n",
       "      dtype=object)"
      ]
     },
     "execution_count": 48,
     "metadata": {},
     "output_type": "execute_result"
    }
   ],
   "source": [
    "df['Tail_Number'].unique()"
   ]
  },
  {
   "cell_type": "code",
   "execution_count": 49,
   "metadata": {},
   "outputs": [],
   "source": [
    "df['Tail_Number'] = label_encoder.fit_transform(df['Tail_Number'])"
   ]
  },
  {
   "cell_type": "code",
   "execution_count": 50,
   "metadata": {},
   "outputs": [
    {
     "data": {
      "text/plain": [
       "array([ 752,  487,  177, ..., 5367, 5265, 5294])"
      ]
     },
     "execution_count": 50,
     "metadata": {},
     "output_type": "execute_result"
    }
   ],
   "source": [
    "df['Tail_Number'].unique()"
   ]
  },
  {
   "cell_type": "markdown",
   "metadata": {},
   "source": [
    "### Encoding OriginCityName"
   ]
  },
  {
   "cell_type": "code",
   "execution_count": 51,
   "metadata": {},
   "outputs": [],
   "source": [
    "df['OriginCityName'] = df['OriginCityName'].str.split(',').str[0]"
   ]
  },
  {
   "cell_type": "code",
   "execution_count": 52,
   "metadata": {},
   "outputs": [
    {
     "data": {
      "text/plain": [
       "array(['Grand Junction', 'Harlingen/San Benito', 'Durango', 'Houston',\n",
       "       'Denver', 'Knoxville', 'Mobile', 'Lincoln', 'Birmingham',\n",
       "       'Washington', 'Panama City', 'Alexandria', 'Lafayette',\n",
       "       'Baton Rouge', 'Albuquerque', 'Buffalo', 'Albany', 'Huntsville',\n",
       "       'Tulsa', 'Casper', 'Corpus Christi', 'Newark', 'St. Louis',\n",
       "       'Cincinnati', 'Richmond', 'Providence', 'Charlotte',\n",
       "       'Greensboro/High Point', 'Erie', 'Chicago', 'Lexington',\n",
       "       'Allentown/Bethlehem/Easton', 'Akron', 'Asheville', 'Dayton',\n",
       "       'Charlottesville', 'Roanoke', 'Portland', 'Little Rock',\n",
       "       'Milwaukee', 'Burlington', 'Omaha', 'Green Bay', 'Moline',\n",
       "       'Louisville', 'Flint', 'Charleston', 'Pittsburgh', 'Traverse City',\n",
       "       'Appleton', 'Duluth', 'Rochester', 'Springfield', 'White Plains',\n",
       "       'Saginaw/Bay City/Midland', 'Cedar Rapids/Iowa City',\n",
       "       'Myrtle Beach', 'Columbia', 'Scranton/Wilkes-Barre',\n",
       "       'Grand Rapids', 'Des Moines', 'Cleveland', 'Peoria', 'Madison',\n",
       "       'Harrisburg', 'South Bend', 'Memphis', 'Wichita', 'Shreveport',\n",
       "       'Fayetteville', 'Dickinson', 'Gulfport/Biloxi', 'Pensacola',\n",
       "       'Laredo', 'Lake Charles', 'Mission/McAllen/Edinburg', 'Flagstaff',\n",
       "       'Brownsville', 'Santa Fe', 'Presque Isle/Houlton', 'Norfolk',\n",
       "       'New York', 'Syracuse', 'Raleigh/Durham', 'Wilmington',\n",
       "       'Indianapolis', 'Philadelphia', 'Columbus', 'State College',\n",
       "       'Ithaca/Cortland', 'Jacksonville', 'Oklahoma City',\n",
       "       'Jackson/Vicksburg', 'Greer', 'Texarkana', 'El Paso',\n",
       "       'Midland/Odessa', 'Austin', 'Idaho Falls', 'Nashville', 'Savannah',\n",
       "       'Amarillo', 'Atlanta', 'Hartford', 'Bellingham', 'Boise', 'Boston',\n",
       "       'Burbank', 'Baltimore', 'Bozeman', 'Colorado Springs', 'Dallas',\n",
       "       'Detroit', 'Eugene', 'Fresno', 'Fort Lauderdale', 'Spokane',\n",
       "       'Hayden', 'Honolulu', 'Islip', 'Hilo', 'Kona', 'Las Vegas',\n",
       "       'Los Angeles', 'Lubbock', 'Long Beach', 'Lihue', 'Kansas City',\n",
       "       'Orlando', 'Manchester', 'Miami', 'Minneapolis', 'New Orleans',\n",
       "       'Montrose/Delta', 'Oakland', 'Kahului', 'Ontario',\n",
       "       'West Palm Beach/Palm Beach', 'Phoenix', 'Palm Springs', 'Reno',\n",
       "       'Fort Myers', 'San Diego', 'San Antonio', 'Santa Barbara',\n",
       "       'Seattle', 'San Francisco', 'San Jose', 'San Juan',\n",
       "       'Salt Lake City', 'Sacramento', 'Santa Ana', 'Sarasota/Bradenton',\n",
       "       'Tampa', 'Tucson', 'Valparaiso', 'Dallas/Fort Worth',\n",
       "       'Hilton Head', 'Bakersfield', 'Fargo', 'Yuma', 'Sioux Falls',\n",
       "       'Monterey', 'Bloomington/Normal', 'Rapid City', 'Daytona Beach',\n",
       "       'Gainesville', 'Montgomery', 'Santa Rosa', 'Tallahassee',\n",
       "       'Medford', 'Augusta', 'Key West', 'Worcester', 'Bangor',\n",
       "       'Chattanooga', 'Charleston/Dunbar', 'Brunswick',\n",
       "       'Jacksonville/Camp Lejeune', 'Lansing', 'Kalamazoo', 'Dothan',\n",
       "       'Bristol/Johnson City/Kingsport', 'Bismarck/Mandan', 'Valdosta',\n",
       "       'Monroe', 'Minot', 'Mosinee', 'Evansville', 'Grand Forks',\n",
       "       'Fort Wayne', 'Binghamton', 'Charlotte Amalie', 'Eagle', 'Jackson',\n",
       "       'Missoula', 'Christiansted', 'Gunnison',\n",
       "       'Newport News/Williamsburg', 'Greenville', 'Watertown', 'Ashland',\n",
       "       'Lynchburg', 'Florence', 'Salisbury', 'Kodiak', 'Anchorage',\n",
       "       'Bethel', 'Barrow', 'Juneau', 'Ketchikan', 'Cordova', 'Yakutat',\n",
       "       'Fairbanks', 'Petersburg', 'Wrangell', 'Sitka', 'Nome', 'Kotzebue',\n",
       "       'Everett', 'Adak Island', 'Deadhorse', 'Aguadilla', 'Ponce',\n",
       "       'Billings', 'Kalispell', 'Melbourne', 'Trenton',\n",
       "       'Newburgh/Poughkeepsie', 'Concord', 'Sanford', 'St. Petersburg',\n",
       "       'Rockford', 'Grand Island', 'Plattsburgh', 'Punta Gorda', 'Provo',\n",
       "       'Toledo', 'Belleville', 'Elmira/Corning', 'Portsmouth', 'Stockton',\n",
       "       'Niagara Falls', 'Pasco/Kennewick/Richland', 'Clarksburg/Fairmont',\n",
       "       'St. Cloud', 'Hagerstown', 'Owensboro', 'Santa Maria',\n",
       "       'Great Falls', 'Bend/Redmond', 'Ogden', 'Pago Pago', 'Garden City',\n",
       "       'Waco', 'Waterloo', 'Lawton/Fort Sill', 'Longview',\n",
       "       'Wichita Falls', 'Abilene', 'Champaign/Urbana', 'Del Rio',\n",
       "       'Fort Smith', 'La Crosse', 'Tyler', 'Killeen', 'Dubuque',\n",
       "       'Beaumont/Port Arthur', 'Manhattan/Ft. Riley', 'San Angelo',\n",
       "       'Stillwater', 'Marquette', 'San Luis Obispo',\n",
       "       'College Station/Bryan', 'Atlantic City', 'Latrobe',\n",
       "       'New Bern/Morehead/Beaufort', 'Roswell', 'St. George',\n",
       "       'Arcata/Eureka', 'Aspen', 'Williston', 'Helena',\n",
       "       'North Bend/Coos Bay', 'Salina', 'Lewiston', 'Hobbs', 'Hays',\n",
       "       'Alamosa', 'Moab', 'Rock Springs', 'Devils Lake', 'Jamestown',\n",
       "       'Paducah', 'Prescott', 'Riverton/Lander', 'Scottsbluff',\n",
       "       'Dodge City', 'Sioux City', 'Hancock/Houghton', 'Meridian',\n",
       "       'Joplin', 'Eau Claire', 'Gillette', 'Sheridan',\n",
       "       'Fort Leonard Wood', 'Fort Dodge', 'Laramie', 'Vernal',\n",
       "       'Ogdensburg', 'Pueblo', 'Victoria', 'Decatur', 'Cheyenne',\n",
       "       'North Platte', 'Johnstown', 'Mason City', 'Redding', 'Staunton',\n",
       "       'Cape Girardeau', 'Kearney', 'Muskegon', 'Lewisburg', 'Liberal',\n",
       "       'Cody', 'Hattiesburg/Laurel', 'Butte', 'Sun Valley/Hailey/Ketchum',\n",
       "       'Iron Mountain/Kingsfd', 'Rhinelander', 'Escanaba', 'Alpena',\n",
       "       'Aberdeen', 'Pellston', 'International Falls', 'Brainerd',\n",
       "       'Hibbing', 'Sault Ste. Marie', 'Pocatello', 'Twin Falls', 'Elko',\n",
       "       'Bemidji', 'Cedar City', 'Yakima', 'Pullman', 'Walla Walla',\n",
       "       'Wenatchee', 'Dillingham', 'King Salmon', 'Guam', 'Saipan',\n",
       "       'Bishop', 'West Yellowstone', 'Nantucket', 'Branson', 'Gustavus',\n",
       "       \"Martha's Vineyard\", 'Hyannis', 'Pierre'], dtype=object)"
      ]
     },
     "execution_count": 52,
     "metadata": {},
     "output_type": "execute_result"
    }
   ],
   "source": [
    "df['OriginCityName'].unique()"
   ]
  },
  {
   "cell_type": "code",
   "execution_count": 53,
   "metadata": {},
   "outputs": [],
   "source": [
    "df['OriginCityName'] = label_encoder.fit_transform(df['OriginCityName'])"
   ]
  },
  {
   "cell_type": "markdown",
   "metadata": {},
   "source": [
    "### Encoding OriginState"
   ]
  },
  {
   "cell_type": "code",
   "execution_count": 54,
   "metadata": {},
   "outputs": [],
   "source": [
    "df['OriginState'] = label_encoder.fit_transform(df['OriginState'])"
   ]
  },
  {
   "cell_type": "code",
   "execution_count": 55,
   "metadata": {},
   "outputs": [
    {
     "data": {
      "text/plain": [
       "array([ 5, 44, 42,  1, 28, 46,  8, 17, 31, 33, 35, 52, 30, 23, 16, 39, 26,\n",
       "       37, 13, 34, 20,  2, 50, 48, 21, 40, 22, 11, 14, 15, 27, 24,  3, 12,\n",
       "        9,  6, 49, 18,  4, 19, 25, 36, 10, 32, 29, 38, 45, 41, 51, 47,  0,\n",
       "        7, 43])"
      ]
     },
     "execution_count": 55,
     "metadata": {},
     "output_type": "execute_result"
    }
   ],
   "source": [
    "df['OriginState'].unique()"
   ]
  },
  {
   "cell_type": "markdown",
   "metadata": {},
   "source": [
    "### Encoding DestcityName"
   ]
  },
  {
   "cell_type": "code",
   "execution_count": 56,
   "metadata": {},
   "outputs": [],
   "source": [
    "df['DestCityName'] = df['DestCityName'].str.split(',').str[0]"
   ]
  },
  {
   "cell_type": "code",
   "execution_count": 57,
   "metadata": {},
   "outputs": [],
   "source": [
    "df['DestCityName'] = label_encoder.fit_transform(df['DestCityName'])"
   ]
  },
  {
   "cell_type": "markdown",
   "metadata": {},
   "source": [
    "### Encoding DestState"
   ]
  },
  {
   "cell_type": "code",
   "execution_count": 58,
   "metadata": {},
   "outputs": [],
   "source": [
    "df['DestState'] = label_encoder.fit_transform(df['DestState'])"
   ]
  },
  {
   "cell_type": "markdown",
   "metadata": {},
   "source": [
    "### Feature Addition"
   ]
  },
  {
   "cell_type": "code",
   "execution_count": 59,
   "metadata": {},
   "outputs": [],
   "source": [
    "df['TotalDelay'] = df['DepDelayMinutes'] + df['ArrDelayMinutes']"
   ]
  },
  {
   "cell_type": "code",
   "execution_count": 60,
   "metadata": {},
   "outputs": [
    {
     "data": {
      "text/plain": [
       "array([   0.,    6.,    5., ..., 2304., 1411., 2356.])"
      ]
     },
     "execution_count": 60,
     "metadata": {},
     "output_type": "execute_result"
    }
   ],
   "source": [
    "df['TotalDelay'].unique()"
   ]
  },
  {
   "cell_type": "code",
   "execution_count": 61,
   "metadata": {},
   "outputs": [],
   "source": [
    "###### Finalizing attributes "
   ]
  },
  {
   "cell_type": "code",
   "execution_count": 62,
   "metadata": {},
   "outputs": [
    {
     "data": {
      "text/html": [
       "<div>\n",
       "<style scoped>\n",
       "    .dataframe tbody tr th:only-of-type {\n",
       "        vertical-align: middle;\n",
       "    }\n",
       "\n",
       "    .dataframe tbody tr th {\n",
       "        vertical-align: top;\n",
       "    }\n",
       "\n",
       "    .dataframe thead th {\n",
       "        text-align: right;\n",
       "    }\n",
       "</style>\n",
       "<table border=\"1\" class=\"dataframe\">\n",
       "  <thead>\n",
       "    <tr style=\"text-align: right;\">\n",
       "      <th></th>\n",
       "      <th>Year</th>\n",
       "      <th>Airline</th>\n",
       "      <th>Origin</th>\n",
       "      <th>Dest</th>\n",
       "      <th>Diverted</th>\n",
       "      <th>DepTime</th>\n",
       "      <th>DepDelayMinutes</th>\n",
       "      <th>ArrTime</th>\n",
       "      <th>ArrDelayMinutes</th>\n",
       "      <th>Month</th>\n",
       "      <th>DayofMonth</th>\n",
       "      <th>DayOfWeek</th>\n",
       "      <th>OriginAirportID</th>\n",
       "      <th>OriginCityName</th>\n",
       "      <th>DestAirportID</th>\n",
       "      <th>DestCityName</th>\n",
       "      <th>CRSArrTime</th>\n",
       "      <th>TotalDelay</th>\n",
       "    </tr>\n",
       "  </thead>\n",
       "  <tbody>\n",
       "    <tr>\n",
       "      <th>0</th>\n",
       "      <td>2022</td>\n",
       "      <td>6</td>\n",
       "      <td>141</td>\n",
       "      <td>97</td>\n",
       "      <td>False</td>\n",
       "      <td>1123.0</td>\n",
       "      <td>0.0</td>\n",
       "      <td>1228.0</td>\n",
       "      <td>0.0</td>\n",
       "      <td>4</td>\n",
       "      <td>4</td>\n",
       "      <td>1</td>\n",
       "      <td>11921</td>\n",
       "      <td>122</td>\n",
       "      <td>11292</td>\n",
       "      <td>83</td>\n",
       "      <td>1245</td>\n",
       "      <td>0.0</td>\n",
       "    </tr>\n",
       "    <tr>\n",
       "      <th>1</th>\n",
       "      <td>2022</td>\n",
       "      <td>6</td>\n",
       "      <td>164</td>\n",
       "      <td>171</td>\n",
       "      <td>False</td>\n",
       "      <td>728.0</td>\n",
       "      <td>0.0</td>\n",
       "      <td>848.0</td>\n",
       "      <td>0.0</td>\n",
       "      <td>4</td>\n",
       "      <td>4</td>\n",
       "      <td>1</td>\n",
       "      <td>12206</td>\n",
       "      <td>135</td>\n",
       "      <td>12266</td>\n",
       "      <td>147</td>\n",
       "      <td>849</td>\n",
       "      <td>0.0</td>\n",
       "    </tr>\n",
       "    <tr>\n",
       "      <th>2</th>\n",
       "      <td>2022</td>\n",
       "      <td>6</td>\n",
       "      <td>103</td>\n",
       "      <td>97</td>\n",
       "      <td>False</td>\n",
       "      <td>1514.0</td>\n",
       "      <td>0.0</td>\n",
       "      <td>1636.0</td>\n",
       "      <td>0.0</td>\n",
       "      <td>4</td>\n",
       "      <td>4</td>\n",
       "      <td>1</td>\n",
       "      <td>11413</td>\n",
       "      <td>93</td>\n",
       "      <td>11292</td>\n",
       "      <td>83</td>\n",
       "      <td>1639</td>\n",
       "      <td>0.0</td>\n",
       "    </tr>\n",
       "    <tr>\n",
       "      <th>3</th>\n",
       "      <td>2022</td>\n",
       "      <td>6</td>\n",
       "      <td>171</td>\n",
       "      <td>143</td>\n",
       "      <td>False</td>\n",
       "      <td>1430.0</td>\n",
       "      <td>0.0</td>\n",
       "      <td>1547.0</td>\n",
       "      <td>0.0</td>\n",
       "      <td>4</td>\n",
       "      <td>4</td>\n",
       "      <td>1</td>\n",
       "      <td>12266</td>\n",
       "      <td>147</td>\n",
       "      <td>11973</td>\n",
       "      <td>130</td>\n",
       "      <td>1605</td>\n",
       "      <td>0.0</td>\n",
       "    </tr>\n",
       "    <tr>\n",
       "      <th>4</th>\n",
       "      <td>2022</td>\n",
       "      <td>6</td>\n",
       "      <td>103</td>\n",
       "      <td>97</td>\n",
       "      <td>False</td>\n",
       "      <td>1135.0</td>\n",
       "      <td>0.0</td>\n",
       "      <td>1251.0</td>\n",
       "      <td>6.0</td>\n",
       "      <td>4</td>\n",
       "      <td>4</td>\n",
       "      <td>1</td>\n",
       "      <td>11413</td>\n",
       "      <td>93</td>\n",
       "      <td>11292</td>\n",
       "      <td>83</td>\n",
       "      <td>1245</td>\n",
       "      <td>6.0</td>\n",
       "    </tr>\n",
       "    <tr>\n",
       "      <th>...</th>\n",
       "      <td>...</td>\n",
       "      <td>...</td>\n",
       "      <td>...</td>\n",
       "      <td>...</td>\n",
       "      <td>...</td>\n",
       "      <td>...</td>\n",
       "      <td>...</td>\n",
       "      <td>...</td>\n",
       "      <td>...</td>\n",
       "      <td>...</td>\n",
       "      <td>...</td>\n",
       "      <td>...</td>\n",
       "      <td>...</td>\n",
       "      <td>...</td>\n",
       "      <td>...</td>\n",
       "      <td>...</td>\n",
       "      <td>...</td>\n",
       "      <td>...</td>\n",
       "    </tr>\n",
       "    <tr>\n",
       "      <th>4078308</th>\n",
       "      <td>2022</td>\n",
       "      <td>16</td>\n",
       "      <td>122</td>\n",
       "      <td>121</td>\n",
       "      <td>False</td>\n",
       "      <td>1953.0</td>\n",
       "      <td>216.0</td>\n",
       "      <td>2256.0</td>\n",
       "      <td>207.0</td>\n",
       "      <td>3</td>\n",
       "      <td>31</td>\n",
       "      <td>4</td>\n",
       "      <td>11624</td>\n",
       "      <td>170</td>\n",
       "      <td>11618</td>\n",
       "      <td>231</td>\n",
       "      <td>1929</td>\n",
       "      <td>423.0</td>\n",
       "    </tr>\n",
       "    <tr>\n",
       "      <th>4078309</th>\n",
       "      <td>2022</td>\n",
       "      <td>16</td>\n",
       "      <td>73</td>\n",
       "      <td>121</td>\n",
       "      <td>False</td>\n",
       "      <td>1801.0</td>\n",
       "      <td>223.0</td>\n",
       "      <td>1930.0</td>\n",
       "      <td>201.0</td>\n",
       "      <td>3</td>\n",
       "      <td>31</td>\n",
       "      <td>4</td>\n",
       "      <td>11042</td>\n",
       "      <td>67</td>\n",
       "      <td>11618</td>\n",
       "      <td>231</td>\n",
       "      <td>1609</td>\n",
       "      <td>424.0</td>\n",
       "    </tr>\n",
       "    <tr>\n",
       "      <th>4078310</th>\n",
       "      <td>2022</td>\n",
       "      <td>16</td>\n",
       "      <td>169</td>\n",
       "      <td>276</td>\n",
       "      <td>False</td>\n",
       "      <td>2105.0</td>\n",
       "      <td>195.0</td>\n",
       "      <td>2201.0</td>\n",
       "      <td>180.0</td>\n",
       "      <td>3</td>\n",
       "      <td>31</td>\n",
       "      <td>4</td>\n",
       "      <td>12264</td>\n",
       "      <td>343</td>\n",
       "      <td>14122</td>\n",
       "      <td>259</td>\n",
       "      <td>1901</td>\n",
       "      <td>375.0</td>\n",
       "    </tr>\n",
       "    <tr>\n",
       "      <th>4078312</th>\n",
       "      <td>2022</td>\n",
       "      <td>16</td>\n",
       "      <td>121</td>\n",
       "      <td>223</td>\n",
       "      <td>False</td>\n",
       "      <td>2309.0</td>\n",
       "      <td>154.0</td>\n",
       "      <td>52.0</td>\n",
       "      <td>135.0</td>\n",
       "      <td>3</td>\n",
       "      <td>19</td>\n",
       "      <td>6</td>\n",
       "      <td>11618</td>\n",
       "      <td>231</td>\n",
       "      <td>13244</td>\n",
       "      <td>207</td>\n",
       "      <td>2237</td>\n",
       "      <td>289.0</td>\n",
       "    </tr>\n",
       "    <tr>\n",
       "      <th>4078315</th>\n",
       "      <td>2022</td>\n",
       "      <td>16</td>\n",
       "      <td>14</td>\n",
       "      <td>255</td>\n",
       "      <td>False</td>\n",
       "      <td>2318.0</td>\n",
       "      <td>378.0</td>\n",
       "      <td>59.0</td>\n",
       "      <td>381.0</td>\n",
       "      <td>3</td>\n",
       "      <td>8</td>\n",
       "      <td>2</td>\n",
       "      <td>10257</td>\n",
       "      <td>6</td>\n",
       "      <td>13930</td>\n",
       "      <td>63</td>\n",
       "      <td>1838</td>\n",
       "      <td>759.0</td>\n",
       "    </tr>\n",
       "  </tbody>\n",
       "</table>\n",
       "<p>3944916 rows × 18 columns</p>\n",
       "</div>"
      ],
      "text/plain": [
       "         Year  Airline  Origin  Dest  Diverted  DepTime  DepDelayMinutes  \\\n",
       "0        2022        6     141    97     False   1123.0              0.0   \n",
       "1        2022        6     164   171     False    728.0              0.0   \n",
       "2        2022        6     103    97     False   1514.0              0.0   \n",
       "3        2022        6     171   143     False   1430.0              0.0   \n",
       "4        2022        6     103    97     False   1135.0              0.0   \n",
       "...       ...      ...     ...   ...       ...      ...              ...   \n",
       "4078308  2022       16     122   121     False   1953.0            216.0   \n",
       "4078309  2022       16      73   121     False   1801.0            223.0   \n",
       "4078310  2022       16     169   276     False   2105.0            195.0   \n",
       "4078312  2022       16     121   223     False   2309.0            154.0   \n",
       "4078315  2022       16      14   255     False   2318.0            378.0   \n",
       "\n",
       "         ArrTime  ArrDelayMinutes  Month  DayofMonth  DayOfWeek  \\\n",
       "0         1228.0              0.0      4           4          1   \n",
       "1          848.0              0.0      4           4          1   \n",
       "2         1636.0              0.0      4           4          1   \n",
       "3         1547.0              0.0      4           4          1   \n",
       "4         1251.0              6.0      4           4          1   \n",
       "...          ...              ...    ...         ...        ...   \n",
       "4078308   2256.0            207.0      3          31          4   \n",
       "4078309   1930.0            201.0      3          31          4   \n",
       "4078310   2201.0            180.0      3          31          4   \n",
       "4078312     52.0            135.0      3          19          6   \n",
       "4078315     59.0            381.0      3           8          2   \n",
       "\n",
       "         OriginAirportID  OriginCityName  DestAirportID  DestCityName  \\\n",
       "0                  11921             122          11292            83   \n",
       "1                  12206             135          12266           147   \n",
       "2                  11413              93          11292            83   \n",
       "3                  12266             147          11973           130   \n",
       "4                  11413              93          11292            83   \n",
       "...                  ...             ...            ...           ...   \n",
       "4078308            11624             170          11618           231   \n",
       "4078309            11042              67          11618           231   \n",
       "4078310            12264             343          14122           259   \n",
       "4078312            11618             231          13244           207   \n",
       "4078315            10257               6          13930            63   \n",
       "\n",
       "         CRSArrTime  TotalDelay  \n",
       "0              1245         0.0  \n",
       "1               849         0.0  \n",
       "2              1639         0.0  \n",
       "3              1605         0.0  \n",
       "4              1245         6.0  \n",
       "...             ...         ...  \n",
       "4078308        1929       423.0  \n",
       "4078309        1609       424.0  \n",
       "4078310        1901       375.0  \n",
       "4078312        2237       289.0  \n",
       "4078315        1838       759.0  \n",
       "\n",
       "[3944916 rows x 18 columns]"
      ]
     },
     "execution_count": 62,
     "metadata": {},
     "output_type": "execute_result"
    }
   ],
   "source": [
    "df.loc[:, ['Year', 'Airline', 'Origin', 'Dest', 'Diverted', 'DepTime', 'DepDelayMinutes', 'ArrTime', 'ArrDelayMinutes', 'Month', 'DayofMonth', 'DayOfWeek', 'OriginAirportID', 'OriginCityName', 'DestAirportID', 'DestCityName', 'CRSArrTime', 'TotalDelay']]\n"
   ]
  },
  {
   "cell_type": "code",
   "execution_count": 63,
   "metadata": {},
   "outputs": [],
   "source": [
    "df['Year'] = df['FlightDate'].dt.year\n",
    "df['Year'].astype(int)\n",
    "df.drop('FlightDate', axis=1, inplace=True)"
   ]
  },
  {
   "cell_type": "markdown",
   "metadata": {},
   "source": [
    "### Transforming to Cyclice Variables (Sine and Cosine)"
   ]
  },
  {
   "cell_type": "code",
   "execution_count": 64,
   "metadata": {},
   "outputs": [],
   "source": [
    "dfc = df.copy()"
   ]
  },
  {
   "cell_type": "code",
   "execution_count": 65,
   "metadata": {},
   "outputs": [],
   "source": [
    "import pandas as pd\n",
    "import numpy as np\n",
    "\n",
    "#cyclic representation\n",
    "def cyclic_encode(month, period=12):\n",
    "    angle = (month / period) * 2 * np.pi\n",
    "    return np.sin(angle), np.cos(angle)\n",
    "\n",
    "df['Month_sin'], df['Month_cos'] = zip(*df['Month'].apply(cyclic_encode))\n",
    "# Now, df['Month_sin'] and df['Month_cos'] contain the cyclic representation of the 'Month' column\n"
   ]
  },
  {
   "cell_type": "code",
   "execution_count": 66,
   "metadata": {},
   "outputs": [],
   "source": [
    "# Same thing with DayOfWeek\n",
    "def cyclic_encode_week(day, period=7):\n",
    "    angle = (day / period) * 2 * np.pi\n",
    "    return np.sin(angle), np.cos(angle)\n",
    "df['Week_sin'], df['Week_cos'] = zip(*df['DayOfWeek'].apply(cyclic_encode_week))"
   ]
  },
  {
   "cell_type": "code",
   "execution_count": 67,
   "metadata": {},
   "outputs": [
    {
     "data": {
      "text/html": [
       "<div>\n",
       "<style scoped>\n",
       "    .dataframe tbody tr th:only-of-type {\n",
       "        vertical-align: middle;\n",
       "    }\n",
       "\n",
       "    .dataframe tbody tr th {\n",
       "        vertical-align: top;\n",
       "    }\n",
       "\n",
       "    .dataframe thead th {\n",
       "        text-align: right;\n",
       "    }\n",
       "</style>\n",
       "<table border=\"1\" class=\"dataframe\">\n",
       "  <thead>\n",
       "    <tr style=\"text-align: right;\">\n",
       "      <th></th>\n",
       "      <th>Airline</th>\n",
       "      <th>Origin</th>\n",
       "      <th>Dest</th>\n",
       "      <th>Cancelled</th>\n",
       "      <th>Diverted</th>\n",
       "      <th>CRSDepTime</th>\n",
       "      <th>DepTime</th>\n",
       "      <th>DepDelayMinutes</th>\n",
       "      <th>DepDelay</th>\n",
       "      <th>ArrTime</th>\n",
       "      <th>...</th>\n",
       "      <th>ArrDel15</th>\n",
       "      <th>ArrivalDelayGroups</th>\n",
       "      <th>ArrTimeBlk</th>\n",
       "      <th>DistanceGroup</th>\n",
       "      <th>DivAirportLandings</th>\n",
       "      <th>TotalDelay</th>\n",
       "      <th>Month_sin</th>\n",
       "      <th>Month_cos</th>\n",
       "      <th>Week_sin</th>\n",
       "      <th>Week_cos</th>\n",
       "    </tr>\n",
       "  </thead>\n",
       "  <tbody>\n",
       "    <tr>\n",
       "      <th>0</th>\n",
       "      <td>6</td>\n",
       "      <td>141</td>\n",
       "      <td>97</td>\n",
       "      <td>False</td>\n",
       "      <td>False</td>\n",
       "      <td>1133</td>\n",
       "      <td>1123.0</td>\n",
       "      <td>0.0</td>\n",
       "      <td>-10.0</td>\n",
       "      <td>1228.0</td>\n",
       "      <td>...</td>\n",
       "      <td>0.0</td>\n",
       "      <td>-2.0</td>\n",
       "      <td>1200-1259</td>\n",
       "      <td>1</td>\n",
       "      <td>0</td>\n",
       "      <td>0.0</td>\n",
       "      <td>0.866025</td>\n",
       "      <td>-0.5</td>\n",
       "      <td>0.781831</td>\n",
       "      <td>0.62349</td>\n",
       "    </tr>\n",
       "    <tr>\n",
       "      <th>1</th>\n",
       "      <td>6</td>\n",
       "      <td>164</td>\n",
       "      <td>171</td>\n",
       "      <td>False</td>\n",
       "      <td>False</td>\n",
       "      <td>732</td>\n",
       "      <td>728.0</td>\n",
       "      <td>0.0</td>\n",
       "      <td>-4.0</td>\n",
       "      <td>848.0</td>\n",
       "      <td>...</td>\n",
       "      <td>0.0</td>\n",
       "      <td>-1.0</td>\n",
       "      <td>0800-0859</td>\n",
       "      <td>2</td>\n",
       "      <td>0</td>\n",
       "      <td>0.0</td>\n",
       "      <td>0.866025</td>\n",
       "      <td>-0.5</td>\n",
       "      <td>0.781831</td>\n",
       "      <td>0.62349</td>\n",
       "    </tr>\n",
       "    <tr>\n",
       "      <th>2</th>\n",
       "      <td>6</td>\n",
       "      <td>103</td>\n",
       "      <td>97</td>\n",
       "      <td>False</td>\n",
       "      <td>False</td>\n",
       "      <td>1529</td>\n",
       "      <td>1514.0</td>\n",
       "      <td>0.0</td>\n",
       "      <td>-15.0</td>\n",
       "      <td>1636.0</td>\n",
       "      <td>...</td>\n",
       "      <td>0.0</td>\n",
       "      <td>-1.0</td>\n",
       "      <td>1600-1659</td>\n",
       "      <td>2</td>\n",
       "      <td>0</td>\n",
       "      <td>0.0</td>\n",
       "      <td>0.866025</td>\n",
       "      <td>-0.5</td>\n",
       "      <td>0.781831</td>\n",
       "      <td>0.62349</td>\n",
       "    </tr>\n",
       "    <tr>\n",
       "      <th>3</th>\n",
       "      <td>6</td>\n",
       "      <td>171</td>\n",
       "      <td>143</td>\n",
       "      <td>False</td>\n",
       "      <td>False</td>\n",
       "      <td>1435</td>\n",
       "      <td>1430.0</td>\n",
       "      <td>0.0</td>\n",
       "      <td>-5.0</td>\n",
       "      <td>1547.0</td>\n",
       "      <td>...</td>\n",
       "      <td>0.0</td>\n",
       "      <td>-2.0</td>\n",
       "      <td>1600-1659</td>\n",
       "      <td>2</td>\n",
       "      <td>0</td>\n",
       "      <td>0.0</td>\n",
       "      <td>0.866025</td>\n",
       "      <td>-0.5</td>\n",
       "      <td>0.781831</td>\n",
       "      <td>0.62349</td>\n",
       "    </tr>\n",
       "    <tr>\n",
       "      <th>4</th>\n",
       "      <td>6</td>\n",
       "      <td>103</td>\n",
       "      <td>97</td>\n",
       "      <td>False</td>\n",
       "      <td>False</td>\n",
       "      <td>1135</td>\n",
       "      <td>1135.0</td>\n",
       "      <td>0.0</td>\n",
       "      <td>0.0</td>\n",
       "      <td>1251.0</td>\n",
       "      <td>...</td>\n",
       "      <td>0.0</td>\n",
       "      <td>0.0</td>\n",
       "      <td>1200-1259</td>\n",
       "      <td>2</td>\n",
       "      <td>0</td>\n",
       "      <td>6.0</td>\n",
       "      <td>0.866025</td>\n",
       "      <td>-0.5</td>\n",
       "      <td>0.781831</td>\n",
       "      <td>0.62349</td>\n",
       "    </tr>\n",
       "  </tbody>\n",
       "</table>\n",
       "<p>5 rows × 65 columns</p>\n",
       "</div>"
      ],
      "text/plain": [
       "   Airline  Origin  Dest  Cancelled  Diverted  CRSDepTime  DepTime  \\\n",
       "0        6     141    97      False     False        1133   1123.0   \n",
       "1        6     164   171      False     False         732    728.0   \n",
       "2        6     103    97      False     False        1529   1514.0   \n",
       "3        6     171   143      False     False        1435   1430.0   \n",
       "4        6     103    97      False     False        1135   1135.0   \n",
       "\n",
       "   DepDelayMinutes  DepDelay  ArrTime  ...  ArrDel15  ArrivalDelayGroups  \\\n",
       "0              0.0     -10.0   1228.0  ...       0.0                -2.0   \n",
       "1              0.0      -4.0    848.0  ...       0.0                -1.0   \n",
       "2              0.0     -15.0   1636.0  ...       0.0                -1.0   \n",
       "3              0.0      -5.0   1547.0  ...       0.0                -2.0   \n",
       "4              0.0       0.0   1251.0  ...       0.0                 0.0   \n",
       "\n",
       "   ArrTimeBlk  DistanceGroup  DivAirportLandings  TotalDelay  Month_sin  \\\n",
       "0   1200-1259              1                   0         0.0   0.866025   \n",
       "1   0800-0859              2                   0         0.0   0.866025   \n",
       "2   1600-1659              2                   0         0.0   0.866025   \n",
       "3   1600-1659              2                   0         0.0   0.866025   \n",
       "4   1200-1259              2                   0         6.0   0.866025   \n",
       "\n",
       "   Month_cos  Week_sin  Week_cos  \n",
       "0       -0.5  0.781831   0.62349  \n",
       "1       -0.5  0.781831   0.62349  \n",
       "2       -0.5  0.781831   0.62349  \n",
       "3       -0.5  0.781831   0.62349  \n",
       "4       -0.5  0.781831   0.62349  \n",
       "\n",
       "[5 rows x 65 columns]"
      ]
     },
     "execution_count": 67,
     "metadata": {},
     "output_type": "execute_result"
    }
   ],
   "source": [
    "df.head()"
   ]
  },
  {
   "cell_type": "code",
   "execution_count": 68,
   "metadata": {},
   "outputs": [],
   "source": [
    "df.drop(['Month', 'DayOfWeek'], axis = 1, inplace=True)"
   ]
  },
  {
   "cell_type": "code",
   "execution_count": 69,
   "metadata": {},
   "outputs": [],
   "source": [
    "new_df = df.loc[:, ['Year', 'Airline', 'Origin', 'Dest', 'Diverted', 'DepTime', 'DepDelayMinutes', 'ArrTime', 'ArrDelayMinutes', 'Month_sin','Month_cos', 'Week_sin','Week_cos', 'OriginAirportID', 'OriginCityName', 'DestAirportID', 'DestCityName', 'CRSArrTime', 'TotalDelay']]\n"
   ]
  },
  {
   "cell_type": "code",
   "execution_count": 70,
   "metadata": {},
   "outputs": [
    {
     "data": {
      "text/html": [
       "<div>\n",
       "<style scoped>\n",
       "    .dataframe tbody tr th:only-of-type {\n",
       "        vertical-align: middle;\n",
       "    }\n",
       "\n",
       "    .dataframe tbody tr th {\n",
       "        vertical-align: top;\n",
       "    }\n",
       "\n",
       "    .dataframe thead th {\n",
       "        text-align: right;\n",
       "    }\n",
       "</style>\n",
       "<table border=\"1\" class=\"dataframe\">\n",
       "  <thead>\n",
       "    <tr style=\"text-align: right;\">\n",
       "      <th></th>\n",
       "      <th>Year</th>\n",
       "      <th>Airline</th>\n",
       "      <th>Origin</th>\n",
       "      <th>Dest</th>\n",
       "      <th>Diverted</th>\n",
       "      <th>DepTime</th>\n",
       "      <th>DepDelayMinutes</th>\n",
       "      <th>ArrTime</th>\n",
       "      <th>ArrDelayMinutes</th>\n",
       "      <th>Month_sin</th>\n",
       "      <th>Month_cos</th>\n",
       "      <th>Week_sin</th>\n",
       "      <th>Week_cos</th>\n",
       "      <th>OriginAirportID</th>\n",
       "      <th>OriginCityName</th>\n",
       "      <th>DestAirportID</th>\n",
       "      <th>DestCityName</th>\n",
       "      <th>CRSArrTime</th>\n",
       "      <th>TotalDelay</th>\n",
       "    </tr>\n",
       "  </thead>\n",
       "  <tbody>\n",
       "    <tr>\n",
       "      <th>0</th>\n",
       "      <td>2022</td>\n",
       "      <td>6</td>\n",
       "      <td>141</td>\n",
       "      <td>97</td>\n",
       "      <td>False</td>\n",
       "      <td>1123.0</td>\n",
       "      <td>0.0</td>\n",
       "      <td>1228.0</td>\n",
       "      <td>0.0</td>\n",
       "      <td>0.866025</td>\n",
       "      <td>-0.5</td>\n",
       "      <td>0.781831</td>\n",
       "      <td>0.62349</td>\n",
       "      <td>11921</td>\n",
       "      <td>122</td>\n",
       "      <td>11292</td>\n",
       "      <td>83</td>\n",
       "      <td>1245</td>\n",
       "      <td>0.0</td>\n",
       "    </tr>\n",
       "    <tr>\n",
       "      <th>1</th>\n",
       "      <td>2022</td>\n",
       "      <td>6</td>\n",
       "      <td>164</td>\n",
       "      <td>171</td>\n",
       "      <td>False</td>\n",
       "      <td>728.0</td>\n",
       "      <td>0.0</td>\n",
       "      <td>848.0</td>\n",
       "      <td>0.0</td>\n",
       "      <td>0.866025</td>\n",
       "      <td>-0.5</td>\n",
       "      <td>0.781831</td>\n",
       "      <td>0.62349</td>\n",
       "      <td>12206</td>\n",
       "      <td>135</td>\n",
       "      <td>12266</td>\n",
       "      <td>147</td>\n",
       "      <td>849</td>\n",
       "      <td>0.0</td>\n",
       "    </tr>\n",
       "    <tr>\n",
       "      <th>2</th>\n",
       "      <td>2022</td>\n",
       "      <td>6</td>\n",
       "      <td>103</td>\n",
       "      <td>97</td>\n",
       "      <td>False</td>\n",
       "      <td>1514.0</td>\n",
       "      <td>0.0</td>\n",
       "      <td>1636.0</td>\n",
       "      <td>0.0</td>\n",
       "      <td>0.866025</td>\n",
       "      <td>-0.5</td>\n",
       "      <td>0.781831</td>\n",
       "      <td>0.62349</td>\n",
       "      <td>11413</td>\n",
       "      <td>93</td>\n",
       "      <td>11292</td>\n",
       "      <td>83</td>\n",
       "      <td>1639</td>\n",
       "      <td>0.0</td>\n",
       "    </tr>\n",
       "    <tr>\n",
       "      <th>3</th>\n",
       "      <td>2022</td>\n",
       "      <td>6</td>\n",
       "      <td>171</td>\n",
       "      <td>143</td>\n",
       "      <td>False</td>\n",
       "      <td>1430.0</td>\n",
       "      <td>0.0</td>\n",
       "      <td>1547.0</td>\n",
       "      <td>0.0</td>\n",
       "      <td>0.866025</td>\n",
       "      <td>-0.5</td>\n",
       "      <td>0.781831</td>\n",
       "      <td>0.62349</td>\n",
       "      <td>12266</td>\n",
       "      <td>147</td>\n",
       "      <td>11973</td>\n",
       "      <td>130</td>\n",
       "      <td>1605</td>\n",
       "      <td>0.0</td>\n",
       "    </tr>\n",
       "    <tr>\n",
       "      <th>4</th>\n",
       "      <td>2022</td>\n",
       "      <td>6</td>\n",
       "      <td>103</td>\n",
       "      <td>97</td>\n",
       "      <td>False</td>\n",
       "      <td>1135.0</td>\n",
       "      <td>0.0</td>\n",
       "      <td>1251.0</td>\n",
       "      <td>6.0</td>\n",
       "      <td>0.866025</td>\n",
       "      <td>-0.5</td>\n",
       "      <td>0.781831</td>\n",
       "      <td>0.62349</td>\n",
       "      <td>11413</td>\n",
       "      <td>93</td>\n",
       "      <td>11292</td>\n",
       "      <td>83</td>\n",
       "      <td>1245</td>\n",
       "      <td>6.0</td>\n",
       "    </tr>\n",
       "  </tbody>\n",
       "</table>\n",
       "</div>"
      ],
      "text/plain": [
       "   Year  Airline  Origin  Dest  Diverted  DepTime  DepDelayMinutes  ArrTime  \\\n",
       "0  2022        6     141    97     False   1123.0              0.0   1228.0   \n",
       "1  2022        6     164   171     False    728.0              0.0    848.0   \n",
       "2  2022        6     103    97     False   1514.0              0.0   1636.0   \n",
       "3  2022        6     171   143     False   1430.0              0.0   1547.0   \n",
       "4  2022        6     103    97     False   1135.0              0.0   1251.0   \n",
       "\n",
       "   ArrDelayMinutes  Month_sin  Month_cos  Week_sin  Week_cos  OriginAirportID  \\\n",
       "0              0.0   0.866025       -0.5  0.781831   0.62349            11921   \n",
       "1              0.0   0.866025       -0.5  0.781831   0.62349            12206   \n",
       "2              0.0   0.866025       -0.5  0.781831   0.62349            11413   \n",
       "3              0.0   0.866025       -0.5  0.781831   0.62349            12266   \n",
       "4              6.0   0.866025       -0.5  0.781831   0.62349            11413   \n",
       "\n",
       "   OriginCityName  DestAirportID  DestCityName  CRSArrTime  TotalDelay  \n",
       "0             122          11292            83        1245         0.0  \n",
       "1             135          12266           147         849         0.0  \n",
       "2              93          11292            83        1639         0.0  \n",
       "3             147          11973           130        1605         0.0  \n",
       "4              93          11292            83        1245         6.0  "
      ]
     },
     "execution_count": 70,
     "metadata": {},
     "output_type": "execute_result"
    }
   ],
   "source": [
    "new_df.head()"
   ]
  },
  {
   "cell_type": "markdown",
   "metadata": {},
   "source": [
    "### Building 2 Models"
   ]
  },
  {
   "cell_type": "code",
   "execution_count": 71,
   "metadata": {},
   "outputs": [],
   "source": [
    "new_df.drop('TotalDelay', axis=1, inplace=True)"
   ]
  },
  {
   "cell_type": "code",
   "execution_count": 72,
   "metadata": {},
   "outputs": [],
   "source": [
    "new_dfA = new_df.copy()\n",
    "new_dfD = new_df.copy()"
   ]
  },
  {
   "cell_type": "code",
   "execution_count": 73,
   "metadata": {},
   "outputs": [],
   "source": [
    "new_dfA.drop(['DepDelayMinutes'], axis=1, inplace=True)\n",
    "new_dfD.drop(['ArrDelayMinutes'], axis=1, inplace=True)"
   ]
  },
  {
   "cell_type": "markdown",
   "metadata": {},
   "source": [
    "##### Training arrival delay"
   ]
  },
  {
   "cell_type": "code",
   "execution_count": 74,
   "metadata": {},
   "outputs": [],
   "source": [
    "from sklearn.model_selection import train_test_split\n",
    "X = new_dfA.drop('ArrDelayMinutes', axis=1)\n",
    "y = new_dfA['ArrDelayMinutes']\n",
    "X_train, X_test, y_train, y_test = train_test_split(X, y, test_size=0.2, random_state=42)"
   ]
  },
  {
   "cell_type": "code",
   "execution_count": 75,
   "metadata": {},
   "outputs": [
    {
     "name": "stdout",
     "output_type": "stream",
     "text": [
      "y_test: 1054765     0.0\n",
      "1133674    21.0\n",
      "336088     12.0\n",
      "1935271     5.0\n",
      "810700      0.0\n",
      "           ... \n",
      "733502      0.0\n",
      "3249985     0.0\n",
      "1293823    10.0\n",
      "1643358     0.0\n",
      "2253789     1.0\n",
      "Name: ArrDelayMinutes, Length: 788984, dtype: float64\n",
      "y_pred: [ 6.24024051 15.25768823 15.96001833 ... 19.76469947 17.02476856\n",
      "  5.56339056]\n",
      "RMSE: 21.18952924230348\n",
      "R-squared: 0.72139040948860249\n"
     ]
    }
   ],
   "source": [
    "from sklearn.linear_model import LinearRegression\n",
    "from sklearn.metrics import mean_squared_error, r2_score\n",
    "\n",
    "# Create an instance of the Linear Regression model\n",
    "model = LinearRegression()\n",
    "\n",
    "# Fit the model to the training data\n",
    "model.fit(X_train, y_train)\n",
    "\n",
    "# Make predictions on the test data\n",
    "y_pred = model.predict(X_test)\n",
    "\n",
    "# Calculate the RMSE\n",
    "rmse = mean_squared_error(y_test, y_pred, squared=False)\n",
    "\n",
    "# Calculate the R-squared score\n",
    "r2 = r2_score(y_test, y_pred)\n",
    "\n",
    "# Print the y_test and y_pred values\n",
    "print(\"y_test:\", y_test)\n",
    "print(\"y_pred:\", y_pred)\n",
    "print(\"RMSE:\", rmse)\n",
    "print(\"R-squared:\", r2)\n",
    "\n"
   ]
  },
  {
   "cell_type": "code",
   "execution_count": 76,
   "metadata": {},
   "outputs": [
    {
     "name": "stdout",
     "output_type": "stream",
     "text": [
      "Mean Squared Error (MSE): 51.8386748020239\n",
      "Root Mean Squared Error (RMSE): 24.29380878006945\n",
      "R-squared (R2) score: 0.8461936294204878\n"
     ]
    }
   ],
   "source": [
    "from sklearn.tree import DecisionTreeRegressor\n",
    "from sklearn.metrics import mean_squared_error, r2_score\n",
    "\n",
    "# Create an instance of the DecisionTreeRegressor\n",
    "tree = DecisionTreeRegressor()\n",
    "\n",
    "# Fit the decision tree model to the training data\n",
    "tree.fit(X_train, y_train)\n",
    "\n",
    "# Predict the target variable for the test data\n",
    "y_pred = tree.predict(X_test)\n",
    "# Calculate Mean Squared Error (MSE)\n",
    "mse = mean_squared_error(y_test, y_pred)\n",
    "\n",
    "# Calculate Root Mean Squared Error (RMSE)\n",
    "rmse = np.sqrt(mse)\n",
    "\n",
    "# Calculate R-squared (R2) score\n",
    "r2 = r2_score(y_test, y_pred)\n",
    "\n",
    "# Print the accuracy metrics\n",
    "print(\"Mean Squared Error (MSE):\", mse)\n",
    "print(\"Root Mean Squared Error (RMSE):\", rmse)\n",
    "print(\"R-squared (R2) score:\", r2)\n"
   ]
  },
  {
   "cell_type": "code",
   "execution_count": 79,
   "metadata": {},
   "outputs": [
    {
     "name": "stdout",
     "output_type": "stream",
     "text": [
      "Mean Squared Error: 156.8599342731919\n",
      "R-squared Score: 0.9246128502358275\n",
      "Mean Absolute Error: 0.3008333502327044\n"
     ]
    }
   ],
   "source": [
    "from sklearn.ensemble import RandomForestRegressor\n",
    "from sklearn.metrics import mean_squared_error\n",
    "from sklearn.metrics import mean_squared_error, r2_score, mean_absolute_error\n",
    "\n",
    "# Create a Random Forest regressor object\n",
    "rf = RandomForestRegressor()\n",
    "\n",
    "# Fit the model to the training data\n",
    "rf.fit(X_train, y_train)\n",
    "\n",
    "# Predict the target variable for the test data\n",
    "y_pred = rf.predict(X_test)\n",
    "\n",
    "# Calculate mean squared error\n",
    "mse = mean_squared_error(y_test, y_pred)\n",
    "\n",
    "# Calculate R-squared score\n",
    "r2 = r2_score(y_test, y_pred)\n",
    "\n",
    "# Calculate mean absolute error\n",
    "mae = mean_absolute_error(y_test, y_pred)\n",
    "\n",
    "print(\"Mean Squared Error:\", mse)\n",
    "print(\"R-squared Score:\", r2)\n",
    "print(\"Mean Absolute Error:\", mae)\n"
   ]
  },
  {
   "cell_type": "code",
   "execution_count": 80,
   "metadata": {},
   "outputs": [
    {
     "data": {
      "text/plain": [
       "['random_forest_model.joblib']"
      ]
     },
     "execution_count": 80,
     "metadata": {},
     "output_type": "execute_result"
    }
   ],
   "source": [
    "import joblib\n",
    "\n",
    "# Export DecisionTreeRegressor model in pickle format\n",
    "joblib.dump(tree, 'decision_tree_model.pkl')\n",
    "\n",
    "# Export DecisionTreeRegressor model in joblib format\n",
    "joblib.dump(tree, 'decision_tree_model.joblib')\n",
    "\n",
    "# Export LinearRegression model in pickle format\n",
    "joblib.dump(model, 'linear_regression_model.pkl')\n",
    "\n",
    "# Export LinearRegression model in joblib format\n",
    "joblib.dump(model, 'linear_regression_model.joblib')\n",
    "\n",
    "# Export RandomForestRegressor model in pickle format\n",
    "joblib.dump(rf, 'random_forest_model.pkl')\n",
    "\n",
    "# Export RandomForestRegressor model in joblib format\n",
    "joblib.dump(rf, 'random_forest_model.joblib')\n"
   ]
  },
  {
   "cell_type": "code",
   "execution_count": null,
   "metadata": {},
   "outputs": [],
   "source": []
  },
  {
   "cell_type": "markdown",
   "metadata": {},
   "source": [
    "##### Training Deparure delay"
   ]
  },
  {
   "cell_type": "code",
   "execution_count": 81,
   "metadata": {},
   "outputs": [],
   "source": [
    "x = new_dfD.drop('DepDelayMinutes', axis=1)\n",
    "y = new_dfD['DepDelayMinutes']\n"
   ]
  },
  {
   "cell_type": "code",
   "execution_count": 82,
   "metadata": {},
   "outputs": [
    {
     "data": {
      "text/html": [
       "<style>#sk-container-id-1 {color: black;}#sk-container-id-1 pre{padding: 0;}#sk-container-id-1 div.sk-toggleable {background-color: white;}#sk-container-id-1 label.sk-toggleable__label {cursor: pointer;display: block;width: 100%;margin-bottom: 0;padding: 0.3em;box-sizing: border-box;text-align: center;}#sk-container-id-1 label.sk-toggleable__label-arrow:before {content: \"▸\";float: left;margin-right: 0.25em;color: #696969;}#sk-container-id-1 label.sk-toggleable__label-arrow:hover:before {color: black;}#sk-container-id-1 div.sk-estimator:hover label.sk-toggleable__label-arrow:before {color: black;}#sk-container-id-1 div.sk-toggleable__content {max-height: 0;max-width: 0;overflow: hidden;text-align: left;background-color: #f0f8ff;}#sk-container-id-1 div.sk-toggleable__content pre {margin: 0.2em;color: black;border-radius: 0.25em;background-color: #f0f8ff;}#sk-container-id-1 input.sk-toggleable__control:checked~div.sk-toggleable__content {max-height: 200px;max-width: 100%;overflow: auto;}#sk-container-id-1 input.sk-toggleable__control:checked~label.sk-toggleable__label-arrow:before {content: \"▾\";}#sk-container-id-1 div.sk-estimator input.sk-toggleable__control:checked~label.sk-toggleable__label {background-color: #d4ebff;}#sk-container-id-1 div.sk-label input.sk-toggleable__control:checked~label.sk-toggleable__label {background-color: #d4ebff;}#sk-container-id-1 input.sk-hidden--visually {border: 0;clip: rect(1px 1px 1px 1px);clip: rect(1px, 1px, 1px, 1px);height: 1px;margin: -1px;overflow: hidden;padding: 0;position: absolute;width: 1px;}#sk-container-id-1 div.sk-estimator {font-family: monospace;background-color: #f0f8ff;border: 1px dotted black;border-radius: 0.25em;box-sizing: border-box;margin-bottom: 0.5em;}#sk-container-id-1 div.sk-estimator:hover {background-color: #d4ebff;}#sk-container-id-1 div.sk-parallel-item::after {content: \"\";width: 100%;border-bottom: 1px solid gray;flex-grow: 1;}#sk-container-id-1 div.sk-label:hover label.sk-toggleable__label {background-color: #d4ebff;}#sk-container-id-1 div.sk-serial::before {content: \"\";position: absolute;border-left: 1px solid gray;box-sizing: border-box;top: 0;bottom: 0;left: 50%;z-index: 0;}#sk-container-id-1 div.sk-serial {display: flex;flex-direction: column;align-items: center;background-color: white;padding-right: 0.2em;padding-left: 0.2em;position: relative;}#sk-container-id-1 div.sk-item {position: relative;z-index: 1;}#sk-container-id-1 div.sk-parallel {display: flex;align-items: stretch;justify-content: center;background-color: white;position: relative;}#sk-container-id-1 div.sk-item::before, #sk-container-id-1 div.sk-parallel-item::before {content: \"\";position: absolute;border-left: 1px solid gray;box-sizing: border-box;top: 0;bottom: 0;left: 50%;z-index: -1;}#sk-container-id-1 div.sk-parallel-item {display: flex;flex-direction: column;z-index: 1;position: relative;background-color: white;}#sk-container-id-1 div.sk-parallel-item:first-child::after {align-self: flex-end;width: 50%;}#sk-container-id-1 div.sk-parallel-item:last-child::after {align-self: flex-start;width: 50%;}#sk-container-id-1 div.sk-parallel-item:only-child::after {width: 0;}#sk-container-id-1 div.sk-dashed-wrapped {border: 1px dashed gray;margin: 0 0.4em 0.5em 0.4em;box-sizing: border-box;padding-bottom: 0.4em;background-color: white;}#sk-container-id-1 div.sk-label label {font-family: monospace;font-weight: bold;display: inline-block;line-height: 1.2em;}#sk-container-id-1 div.sk-label-container {text-align: center;}#sk-container-id-1 div.sk-container {/* jupyter's `normalize.less` sets `[hidden] { display: none; }` but bootstrap.min.css set `[hidden] { display: none !important; }` so we also need the `!important` here to be able to override the default hidden behavior on the sphinx rendered scikit-learn.org. See: https://github.com/scikit-learn/scikit-learn/issues/21755 */display: inline-block !important;position: relative;}#sk-container-id-1 div.sk-text-repr-fallback {display: none;}</style><div id=\"sk-container-id-1\" class=\"sk-top-container\"><div class=\"sk-text-repr-fallback\"><pre>RandomForestRegressor()</pre><b>In a Jupyter environment, please rerun this cell to show the HTML representation or trust the notebook. <br />On GitHub, the HTML representation is unable to render, please try loading this page with nbviewer.org.</b></div><div class=\"sk-container\" hidden><div class=\"sk-item\"><div class=\"sk-estimator sk-toggleable\"><input class=\"sk-toggleable__control sk-hidden--visually\" id=\"sk-estimator-id-1\" type=\"checkbox\" checked><label for=\"sk-estimator-id-1\" class=\"sk-toggleable__label sk-toggleable__label-arrow\">RandomForestRegressor</label><div class=\"sk-toggleable__content\"><pre>RandomForestRegressor()</pre></div></div></div></div></div>"
      ],
      "text/plain": [
       "RandomForestRegressor()"
      ]
     },
     "execution_count": 82,
     "metadata": {},
     "output_type": "execute_result"
    }
   ],
   "source": [
    "from sklearn.model_selection import train_test_split\n",
    "from sklearn.linear_model import LinearRegression\n",
    "from sklearn.tree import DecisionTreeRegressor\n",
    "from sklearn.ensemble import RandomForestRegressor\n",
    "\n",
    "# Split the data into training and testing sets\n",
    "X_train, X_test, y_train, y_test = train_test_split(X, y, test_size=0.2, random_state=42)\n",
    "\n",
    "# Initialize the models\n",
    "linear_regression = LinearRegression()\n",
    "decision_tree_regressor = DecisionTreeRegressor()\n",
    "random_forest_regressor = RandomForestRegressor()\n",
    "\n",
    "# Fit the models to the training data\n",
    "linear_regression.fit(X_train, y_train)\n",
    "decision_tree_regressor.fit(X_train, y_train)\n",
    "random_forest_regressor.fit(X_train, y_train)\n"
   ]
  },
  {
   "cell_type": "code",
   "execution_count": 87,
   "metadata": {},
   "outputs": [
    {
     "data": {
      "text/plain": [
       "(11.651161833480607, 1027.8582508060285, 0.72501401581846263)"
      ]
     },
     "execution_count": 87,
     "metadata": {},
     "output_type": "execute_result"
    }
   ],
   "source": [
    "from sklearn.metrics import mean_absolute_error, mean_squared_error, r2_score\n",
    "\n",
    "# Make predictions using the linear regression model\n",
    "y_pred_linear = linear_regression.predict(X_test)\n",
    "\n",
    "# Calculate evaluation metrics for linear regression model\n",
    "mae_linear = mean_absolute_error(y_test, y_pred_linear)\n",
    "mse_linear = mean_squared_error(y_test, y_pred_linear)\n",
    "r2_linear = r2_score(y_test, y_pred_linear)\n",
    "\n",
    "\n",
    "mae_linear, mse_linear, r2_linear\n"
   ]
  },
  {
   "cell_type": "code",
   "execution_count": 92,
   "metadata": {},
   "outputs": [
    {
     "name": "stdout",
     "output_type": "stream",
     "text": [
      "         Year  Airline  Origin  Dest  Diverted  DepTime  ArrTime  Month_sin  \\\n",
      "1054765  2022       20     121   319     False    703.0   1006.0   0.866025   \n",
      "\n",
      "         Month_cos  Week_sin  Week_cos  OriginAirportID  OriginCityName  \\\n",
      "1054765        0.5  0.433884 -0.900969            11618             231   \n",
      "\n",
      "         DestAirportID  DestCityName  CRSArrTime  \n",
      "1054765          14747           308        1014  \n"
     ]
    }
   ],
   "source": [
    "print(X_test.head(1))"
   ]
  },
  {
   "cell_type": "code",
   "execution_count": 85,
   "metadata": {},
   "outputs": [
    {
     "data": {
      "text/plain": [
       "['departure_random_forest_model.joblib']"
      ]
     },
     "execution_count": 85,
     "metadata": {},
     "output_type": "execute_result"
    }
   ],
   "source": [
    "import joblib\n",
    "\n",
    "# Export DecisionTreeRegressor model in pickle format\n",
    "joblib.dump(tree, 'departure_decision_tree_model.pkl')\n",
    "\n",
    "# Export DecisionTreeRegressor model in joblib format\n",
    "joblib.dump(tree, 'departure_decision_tree_model.joblib')\n",
    "\n",
    "# Export LinearRegression model in pickle format\n",
    "joblib.dump(model, 'departure_linear_regression_model.pkl')\n",
    "\n",
    "# Export LinearRegression model in joblib format\n",
    "joblib.dump(model, 'departure_linear_regression_model.joblib')\n",
    "\n",
    "# Export RandomForestRegressor model in pickle format\n",
    "joblib.dump(rf, 'departure_random_forest_model.pkl')\n",
    "\n",
    "# Export RandomForestRegressor model in joblib format\n",
    "joblib.dump(rf, 'departure_random_forest_model.joblib')\n"
   ]
  },
  {
   "cell_type": "markdown",
   "metadata": {},
   "source": [
    "## EDA"
   ]
  },
  {
   "cell_type": "code",
   "execution_count": 103,
   "metadata": {},
   "outputs": [],
   "source": [
    "import matplotlib.pyplot as plt\n",
    "import seaborn as sns"
   ]
  },
  {
   "cell_type": "code",
   "execution_count": 104,
   "metadata": {},
   "outputs": [],
   "source": [
    "df_eda = pd.read_csv(\"archive/Combined_Flights_2022.csv\")           "
   ]
  },
  {
   "cell_type": "code",
   "execution_count": 110,
   "metadata": {},
   "outputs": [
    {
     "data": {
      "text/html": [
       "<div>\n",
       "<style scoped>\n",
       "    .dataframe tbody tr th:only-of-type {\n",
       "        vertical-align: middle;\n",
       "    }\n",
       "\n",
       "    .dataframe tbody tr th {\n",
       "        vertical-align: top;\n",
       "    }\n",
       "\n",
       "    .dataframe thead th {\n",
       "        text-align: right;\n",
       "    }\n",
       "</style>\n",
       "<table border=\"1\" class=\"dataframe\">\n",
       "  <thead>\n",
       "    <tr style=\"text-align: right;\">\n",
       "      <th></th>\n",
       "      <th>FlightDate</th>\n",
       "      <th>Airline</th>\n",
       "      <th>Origin</th>\n",
       "      <th>Dest</th>\n",
       "      <th>Cancelled</th>\n",
       "      <th>Diverted</th>\n",
       "      <th>CRSDepTime</th>\n",
       "      <th>DepTime</th>\n",
       "      <th>DepDelayMinutes</th>\n",
       "      <th>DepDelay</th>\n",
       "      <th>...</th>\n",
       "      <th>WheelsOff</th>\n",
       "      <th>WheelsOn</th>\n",
       "      <th>TaxiIn</th>\n",
       "      <th>CRSArrTime</th>\n",
       "      <th>ArrDelay</th>\n",
       "      <th>ArrDel15</th>\n",
       "      <th>ArrivalDelayGroups</th>\n",
       "      <th>ArrTimeBlk</th>\n",
       "      <th>DistanceGroup</th>\n",
       "      <th>DivAirportLandings</th>\n",
       "    </tr>\n",
       "  </thead>\n",
       "  <tbody>\n",
       "    <tr>\n",
       "      <th>0</th>\n",
       "      <td>2022-04-04</td>\n",
       "      <td>Commutair Aka Champlain Enterprises, Inc.</td>\n",
       "      <td>GJT</td>\n",
       "      <td>DEN</td>\n",
       "      <td>False</td>\n",
       "      <td>False</td>\n",
       "      <td>1133</td>\n",
       "      <td>1123.0</td>\n",
       "      <td>0.0</td>\n",
       "      <td>-10.0</td>\n",
       "      <td>...</td>\n",
       "      <td>1140.0</td>\n",
       "      <td>1220.0</td>\n",
       "      <td>8.0</td>\n",
       "      <td>1245</td>\n",
       "      <td>-17.0</td>\n",
       "      <td>0.0</td>\n",
       "      <td>-2.0</td>\n",
       "      <td>1200-1259</td>\n",
       "      <td>1</td>\n",
       "      <td>0</td>\n",
       "    </tr>\n",
       "    <tr>\n",
       "      <th>1</th>\n",
       "      <td>2022-04-04</td>\n",
       "      <td>Commutair Aka Champlain Enterprises, Inc.</td>\n",
       "      <td>HRL</td>\n",
       "      <td>IAH</td>\n",
       "      <td>False</td>\n",
       "      <td>False</td>\n",
       "      <td>732</td>\n",
       "      <td>728.0</td>\n",
       "      <td>0.0</td>\n",
       "      <td>-4.0</td>\n",
       "      <td>...</td>\n",
       "      <td>744.0</td>\n",
       "      <td>839.0</td>\n",
       "      <td>9.0</td>\n",
       "      <td>849</td>\n",
       "      <td>-1.0</td>\n",
       "      <td>0.0</td>\n",
       "      <td>-1.0</td>\n",
       "      <td>0800-0859</td>\n",
       "      <td>2</td>\n",
       "      <td>0</td>\n",
       "    </tr>\n",
       "  </tbody>\n",
       "</table>\n",
       "<p>2 rows × 61 columns</p>\n",
       "</div>"
      ],
      "text/plain": [
       "   FlightDate                                    Airline Origin Dest  \\\n",
       "0  2022-04-04  Commutair Aka Champlain Enterprises, Inc.    GJT  DEN   \n",
       "1  2022-04-04  Commutair Aka Champlain Enterprises, Inc.    HRL  IAH   \n",
       "\n",
       "   Cancelled  Diverted  CRSDepTime  DepTime  DepDelayMinutes  DepDelay  ...  \\\n",
       "0      False     False        1133   1123.0              0.0     -10.0  ...   \n",
       "1      False     False         732    728.0              0.0      -4.0  ...   \n",
       "\n",
       "   WheelsOff  WheelsOn  TaxiIn  CRSArrTime  ArrDelay  ArrDel15  \\\n",
       "0     1140.0    1220.0     8.0        1245     -17.0       0.0   \n",
       "1      744.0     839.0     9.0         849      -1.0       0.0   \n",
       "\n",
       "   ArrivalDelayGroups  ArrTimeBlk  DistanceGroup  DivAirportLandings  \n",
       "0                -2.0   1200-1259              1                   0  \n",
       "1                -1.0   0800-0859              2                   0  \n",
       "\n",
       "[2 rows x 61 columns]"
      ]
     },
     "execution_count": 110,
     "metadata": {},
     "output_type": "execute_result"
    }
   ],
   "source": [
    "df_eda.head(2)"
   ]
  },
  {
   "cell_type": "code",
   "execution_count": 112,
   "metadata": {},
   "outputs": [],
   "source": [
    "df_eda['FlightDate'] = pd.to_datetime(df_eda['FlightDate'])"
   ]
  },
  {
   "cell_type": "code",
   "execution_count": 97,
   "metadata": {},
   "outputs": [
    {
     "data": {
      "image/png": "[encoded data removed]",
      "text/plain": [
       "<Figure size 1200x600 with 1 Axes>"
      ]
     },
     "metadata": {},
     "output_type": "display_data"
    }
   ],
   "source": [
    "# Distribution of flight distances\n",
    "plt.figure(figsize=(12, 6))\n",
    "sns.histplot(df['Distance'], bins=50, kde=True, color='green')\n",
    "plt.title('Distribution of Flight Distances')\n",
    "plt.xlabel('Distance (miles)')\n",
    "plt.ylabel('Frequency')\n",
    "plt.show()"
   ]
  },
  {
   "cell_type": "code",
   "execution_count": null,
   "metadata": {},
   "outputs": [],
   "source": [
    "'''\n",
    "CONCLUSION FROM DISTRIBUTION OF FLIGHT DISTANCES:\n",
    "key observations from the graph:\n",
    "\n",
    "1. The distribution is heavily right-skewed, with the highest frequency or peak around the shorter flight distances between 0-500 miles.\n",
    "2. There appears to be multiple peaks in the distribution, suggesting certain popular flight distance ranges.\n",
    "3. The frequency gradually tapers off as the flight distance increases beyond 1,000 miles, but there are still a non-trivial number of longer-haul flights up to around 5,000 miles.\n",
    "4. The distribution has a long tail towards the higher flight distances, indicating the presence of some very long-haul flights, though their frequency is relatively low.\n",
    " \n",
    " In summary, the distribution reflects that the majority of flights are shorter-haul, with diminishing frequencies as the distances increase. However, there is still a meaningful\n",
    " number of medium and longer-haul flights occurring as well, though much less frequent than the shorter routes. This could be indicative of factors like route networks,\n",
    " passenger demand patterns, and airline operating models favoring higher frequencies on shorter routes.\n",
    "\n",
    "'''"
   ]
  },
  {
   "cell_type": "code",
   "execution_count": 114,
   "metadata": {},
   "outputs": [
    {
     "data": {
      "image/png": "[encoded data removed]",
      "text/plain": [
       "<Figure size 1200x600 with 1 Axes>"
      ]
     },
     "metadata": {},
     "output_type": "display_data"
    }
   ],
   "source": [
    "# Convert 'FlightDate' to datetime format\n",
    "df_eda['FlightDate'] = pd.to_datetime(df_eda['FlightDate'])\n",
    "\n",
    "# Create a new column indicating whether the flight is delayed or not\n",
    "df_eda['Delayed'] = df_eda['ArrDelayMinutes'] > 0\n",
    "\n",
    "# Group by 'FlightDate' and count delayed flights for each date\n",
    "delayed_flights_by_date = df_eda.groupby('FlightDate')['Delayed'].sum().reset_index()\n",
    "\n",
    "# Plot the graph\n",
    "plt.figure(figsize=(12, 6))\n",
    "plt.plot(delayed_flights_by_date['FlightDate'], delayed_flights_by_date['Delayed'], color='blue')\n",
    "plt.title('Delayed Flights Over Time')\n",
    "plt.xlabel('Date')\n",
    "plt.ylabel('Number of Delayed Flights')\n",
    "plt.xticks(rotation=45)  # Rotate x-axis labels for better readability\n",
    "plt.grid(True)\n",
    "plt.show()\n"
   ]
  },
  {
   "cell_type": "code",
   "execution_count": 123,
   "metadata": {},
   "outputs": [
    {
     "name": "stderr",
     "output_type": "stream",
     "text": [
      "C:\\Users\\lemon\\AppData\\Local\\Temp\\ipykernel_18252\\1460441280.py:18: FutureWarning: The default of observed=False is deprecated and will be changed to True in a future version of pandas. Pass observed=False to retain current behavior or observed=True to adopt the future default and silence this warning.\n",
      "  delayed_flights_by_quarter = df_eda[df_eda['ArrDelayMinutes'] > 0].groupby('DepartureQuarter').size()\n"
     ]
    },
    {
     "data": {
      "image/png": "[encoded data removed]",
      "text/plain": [
       "<Figure size 800x800 with 1 Axes>"
      ]
     },
     "metadata": {},
     "output_type": "display_data"
    }
   ],
   "source": [
    "import numpy as np\n",
    "\n",
    "# Define time ranges for each quarter\n",
    "time_ranges = {\n",
    "    '1st Quarter': '12:00 AM - 5:59 AM',\n",
    "    '2nd Quarter': '6:00 AM - 11:59 AM',\n",
    "    '3rd Quarter': '12:00 PM - 5:59 PM',\n",
    "    '4th Quarter': '6:00 PM - 11:59 PM'\n",
    "}\n",
    "\n",
    "# Categorize departure time into quarters of the day\n",
    "df_eda['DepartureQuarter'] = pd.cut(df_eda['CRSDepTime'].dt.hour,\n",
    "                                     bins=[0, 6, 12, 18, 24],\n",
    "                                     labels=['1st Quarter', '2nd Quarter', '3rd Quarter', '4th Quarter'],\n",
    "                                     include_lowest=True)\n",
    "\n",
    "# Count delayed flights in each quarter\n",
    "delayed_flights_by_quarter = df_eda[df_eda['ArrDelayMinutes'] > 0].groupby('DepartureQuarter').size()\n",
    "\n",
    "# Plot the pie chart\n",
    "plt.figure(figsize=(8, 8))\n",
    "plt.pie(delayed_flights_by_quarter, labels=[f\"{quarter}\\n({time_ranges[quarter]})\" for quarter in delayed_flights_by_quarter.index],\n",
    "        autopct='%1.1f%%', startangle=140)\n",
    "plt.title('Proportion of Delayed Flights by Quarters of the Day')\n",
    "plt.axis('equal')  # Equal aspect ratio ensures that pie is drawn as a circle.\n",
    "plt.show()\n"
   ]
  },
  {
   "cell_type": "code",
   "execution_count": null,
   "metadata": {},
   "outputs": [],
   "source": [
    "'''\n",
    "CONCLUSION FROM PROPORTION OF DELAYED FLIGHTS BY QUARTERS OF THE DAY:\n",
    "key observations:\n",
    "1: The 3rd quarter (12:00 PM - 5:59 PM) has the highest proportion of delayed flights at 40.8%, indicating that afternoon flights tend to experience more delays.\n",
    "2: The 4th quarter (6:00 PM - 11:59 PM) has the second-highest proportion of delayed flights at 20.3%, suggesting that evening flights are also prone to delays,\n",
    " though not as much as afternoon flights.\n",
    "3: The 2nd quarter (6:00 AM - 11:59 AM) has a 32.6% proportion of delayed flights, which is higher than the 1st quarter (12:00 AM - 5:59 AM) at 6.3%.\n",
    "4: The early morning hours (1st quarter) seem to have the lowest proportion of flight delays compared to other times of the day.\n",
    "\n",
    " In summary, the data indicates that flight delays are more prevalent during the afternoon and evening hours, with the peak occurring in the 3rd quarter of the day.\n",
    " This could be due to various factors such as increased air traffic, weather patterns, or operational challenges during these times.\n",
    " Early morning flights appear to be the least affected by delays based on this breakdown.\n",
    "'''"
   ]
  },
  {
   "cell_type": "code",
   "execution_count": 124,
   "metadata": {},
   "outputs": [
    {
     "name": "stderr",
     "output_type": "stream",
     "text": [
      "C:\\Users\\lemon\\AppData\\Local\\Temp\\ipykernel_18252\\1628085875.py:6: FutureWarning: \n",
      "\n",
      "Passing `palette` without assigning `hue` is deprecated and will be removed in v0.14.0. Assign the `x` variable to `hue` and set `legend=False` for the same effect.\n",
      "\n",
      "  sns.barplot(x='Month', y='ArrDelayMinutes', data=avg_delay_by_month, palette='viridis')\n"
     ]
    },
    {
     "data": {
      "image/png": "[encoded data removed]",
      "text/plain": [
       "<Figure size 1000x600 with 1 Axes>"
      ]
     },
     "metadata": {},
     "output_type": "display_data"
    }
   ],
   "source": [
    "# Group by month and calculate average delay\n",
    "avg_delay_by_month = df_eda.groupby('Month')['ArrDelayMinutes'].mean().reset_index()\n",
    "\n",
    "# Plot the bar plot\n",
    "plt.figure(figsize=(10, 6))\n",
    "sns.barplot(x='Month', y='ArrDelayMinutes', data=avg_delay_by_month, palette='viridis')\n",
    "plt.title('Average Arrival Delay by Month')\n",
    "plt.xlabel('Month')\n",
    "plt.ylabel('Average Arrival Delay (minutes)')\n",
    "plt.xticks(rotation=45)\n",
    "plt.show()\n"
   ]
  },
  {
   "cell_type": "code",
   "execution_count": null,
   "metadata": {},
   "outputs": [],
   "source": [
    "'''\n",
    "CONCLUSION FROM AVERAGE ARRIVAL DELAY BY MONTH:\n",
    "\n",
    "key observations:\n",
    "\n",
    "1. There is a clear seasonal pattern in the average arrival delays. The delays are highest during the winter months\n",
    "    (represented by the first few months on the x-axis).\n",
    "2. The month with the highest average arrival delay appears to be around January or February, with delays averaging around 15-16 minutes.\n",
    "3. As the months progress towards spring and summer, the average arrival delays steadily decrease, reaching their lowest point\n",
    "   around June or July at approximately 12-13 minutes.\n",
    "4. The delays start increasing again in the later months, potentially representing the fall/autumn season.\n",
    "\n",
    "This seasonal trend in flight arrival delays could be attributed to various factors like adverse weather conditions (snow, storms, etc.) during the winter months,\n",
    "which can disrupt flight operations and lead to longer delays. The summer months generally have more favorable weather, leading to fewer delays on average.\n",
    "\n",
    "It's worth noting that while the graph shows a distinct seasonal pattern, delays can still occur throughout the year due to other factors like\n",
    "air traffic congestion, operational issues, or unforeseen circumstances.\n",
    "\n",
    "Overall, this analysis highlights the importance of airlines and airports anticipating and preparing for the higher likelihood of arrival delays during certain times of \n",
    "the year, particularly the winter months, to better manage passenger expectations and operations.\n",
    "'''"
   ]
  },
  {
   "cell_type": "code",
   "execution_count": 125,
   "metadata": {},
   "outputs": [
    {
     "name": "stderr",
     "output_type": "stream",
     "text": [
      "C:\\Users\\lemon\\AppData\\Local\\Temp\\ipykernel_18252\\2936556187.py:6: FutureWarning: \n",
      "\n",
      "Passing `palette` without assigning `hue` is deprecated and will be removed in v0.14.0. Assign the `x` variable to `hue` and set `legend=False` for the same effect.\n",
      "\n",
      "  sns.barplot(x='DayOfWeek', y='ArrDelayMinutes', data=avg_delay_by_day, palette='viridis')\n"
     ]
    },
    {
     "data": {
      "image/png": "[encoded data removed]",
      "text/plain": [
       "<Figure size 1000x600 with 1 Axes>"
      ]
     },
     "metadata": {},
     "output_type": "display_data"
    }
   ],
   "source": [
    "# Group by day of the week and calculate average delay\n",
    "avg_delay_by_day = df_eda.groupby('DayOfWeek')['ArrDelayMinutes'].mean().reset_index()\n",
    "\n",
    "# Plot the bar plot\n",
    "plt.figure(figsize=(10, 6))\n",
    "sns.barplot(x='DayOfWeek', y='ArrDelayMinutes', data=avg_delay_by_day, palette='viridis')\n",
    "plt.title('Average Arrival Delay by Day of the Week')\n",
    "plt.xlabel('Day of the Week')\n",
    "plt.ylabel('Average Arrival Delay (minutes)')\n",
    "plt.xticks(rotation=45)\n",
    "plt.show()"
   ]
  },
  {
   "cell_type": "code",
   "execution_count": null,
   "metadata": {},
   "outputs": [],
   "source": [
    "'''\n",
    "CONCLUSION FROM AVERAGE ARRIVAL DELAY BY DAY OF THE WEEK:\n",
    "key observations:\n",
    "\n",
    "1. There appears to be a weekly pattern in average arrival delays, with the highest delays occurring on certain days.\n",
    "2. Monday seems to have the highest average arrival delay compared to other days of the week.\n",
    "3. The delays steadily decrease from Monday through Wednesday or Thursday, reaching their lowest point mid-week.\n",
    "4. Towards the latter part of the week, the average delays start increasing again, with a noticeable rise on Saturday and Sunday.\n",
    "\n",
    "This weekly trend in flight arrival delays could be attributed to factors like higher air traffic and travel demand on Mondays after the weekend lull,\n",
    "as well as potential congestion or operational challenges faced by airlines/airports at the start of the week. Mid-week days may have relatively lower\n",
    "delays due to more efficient operations and lower travel volumes.\n",
    "\n",
    "The increase in delays towards the weekend could be explained by busier travel periods, with more passengers flying on weekends for leisure or personal\n",
    "trips, leading to higher congestion at airports and in the air traffic system.\n",
    "\n",
    "Overall, this analysis highlights the day-of-week patterns in flight delays that airlines and airports should account for in their operational planning\n",
    "and resource allocation to better manage passenger expectations and minimize disruptions.\n",
    "'''"
   ]
  },
  {
   "cell_type": "code",
   "execution_count": 126,
   "metadata": {},
   "outputs": [
    {
     "name": "stderr",
     "output_type": "stream",
     "text": [
      "C:\\Users\\lemon\\AppData\\Local\\Temp\\ipykernel_18252\\1118360383.py:9: FutureWarning: \n",
      "\n",
      "Passing `palette` without assigning `hue` is deprecated and will be removed in v0.14.0. Assign the `x` variable to `hue` and set `legend=False` for the same effect.\n",
      "\n",
      "  sns.barplot(x='Airline', y='ArrDelayMinutes', data=avg_delay_by_airline, palette='viridis')\n"
     ]
    },
    {
     "data": {
      "image/png": "[encoded data removed]",
      "text/plain": [
       "<Figure size 1200x600 with 1 Axes>"
      ]
     },
     "metadata": {},
     "output_type": "display_data"
    }
   ],
   "source": [
    "# Group by airline and calculate average delay\n",
    "avg_delay_by_airline = df_eda.groupby('Airline')['ArrDelayMinutes'].mean().reset_index()\n",
    "\n",
    "# Sort airlines by average delay in descending order\n",
    "avg_delay_by_airline = avg_delay_by_airline.sort_values(by='ArrDelayMinutes', ascending=False)\n",
    "\n",
    "# Plot the bar plot\n",
    "plt.figure(figsize=(12, 6))\n",
    "sns.barplot(x='Airline', y='ArrDelayMinutes', data=avg_delay_by_airline, palette='viridis')\n",
    "plt.title('Average Arrival Delay by Airline')\n",
    "plt.xlabel('Airline')\n",
    "plt.ylabel('Average Arrival Delay (minutes)')\n",
    "plt.xticks(rotation=90)\n",
    "plt.show()"
   ]
  },
  {
   "cell_type": "code",
   "execution_count": null,
   "metadata": {},
   "outputs": [],
   "source": [
    "'''\n",
    "CONCLUSION FROM AVERAGE ARRIVAL DELAY BY AIRLINE:\n",
    "key observations:\n",
    "\n",
    "1.There is a noticeable variation in average arrival delays across the airlines shown.\n",
    "2. Some airlines like République Airways, Golian Airlines Air, and Frontier Airlines Inc. have significantly higher average delays compared to others,\n",
    "    with République Airways having the highest delays.\n",
    "3. On the other end, airlines like Hawaiian Airlines Inc., Envoy Air Inc., and Alaska Airlines Inc. have relatively lower average arrival delays.\n",
    "4. A cluster of airlines towards the right side of the chart have the lowest delays, potentially indicating better on-time performance for these carriers.\n",
    "\n",
    "This analysis highlights how different airlines can have varying operational efficiencies and punctuality records, leading to disparities in their average\n",
    "flight arrival delays. Multiple factors like an airline's network structure, fleet composition, crew scheduling, and overall operational practices could\n",
    "influence their ability to minimize delays and maintain on-time performance. However, it's important to note that delays can occur due to various reasons\n",
    "beyond an airline's direct control as well, such as weather conditions or air traffic constraints.\n",
    "'''"
   ]
  },
  {
   "cell_type": "markdown",
   "metadata": {},
   "source": [
    "### Model Sample input"
   ]
  },
  {
   "cell_type": "code",
   "execution_count": 137,
   "metadata": {},
   "outputs": [
    {
     "name": "stdout",
     "output_type": "stream",
     "text": [
      "[14.02813239]\n"
     ]
    }
   ],
   "source": [
    "import joblib\n",
    "import warnings\n",
    "warnings.filterwarnings(\"ignore\")\n",
    "# Arrival\n",
    "# Load the pre-trained model\n",
    "model = joblib.load('linear_regression_model.pkl')\n",
    "\n",
    "# Provide sample input to the model\n",
    "sample_input = [[2022, 6, 141, 97, False, 1123.0, 1228.0, 0.866025, -0.5, 0.781831, 0.62349, 11921, 122, 11292, 83, 1245]]\n",
    "predicted_delay = model.predict(sample_input)\n",
    "\n",
    "# Print the predicted arrival delay\n",
    "print(predicted_delay)\n"
   ]
  },
  {
   "cell_type": "code",
   "execution_count": 148,
   "metadata": {},
   "outputs": [
    {
     "name": "stdout",
     "output_type": "stream",
     "text": [
      "[13.72642271]\n"
     ]
    }
   ],
   "source": [
    "import joblib\n",
    "import warnings\n",
    "warnings.filterwarnings(\"ignore\")\n",
    "# Delay\n",
    "# Load the delay model\n",
    "delay_model = joblib.load('departure_linear_regression_model.pkl')\n",
    "\n",
    "# Generate sample input\n",
    "sample_input = [[2023, 7, 141, 97, False, 1199.0, 1398.0, 0.866025, -0.5, 0.781831, 0.72349, 11921, 122, 11292, 83, 1345]]\n",
    "\n",
    "# Predict the delay using the loaded model\n",
    "sample_output = delay_model.predict(sample_input)\n",
    "\n",
    "print(sample_output)\n"
   ]
  },
  {
   "cell_type": "code",
   "execution_count": null,
   "metadata": {},
   "outputs": [],
   "source": []
  }
 ],
 "metadata": {
  "kernelspec": {
   "display_name": "Python 3",
   "language": "python",
   "name": "python3"
  },
  "language_info": {
   "codemirror_mode": {
    "name": "ipython",
    "version": 3
   },
   "file_extension": ".py",
   "mimetype": "text/x-python",
   "name": "python",
   "nbconvert_exporter": "python",
   "pygments_lexer": "ipython3",
   "version": "3.12.0"
  }
 },
 "nbformat": 4,
 "nbformat_minor": 2
}
